{
 "cells": [
  {
   "cell_type": "markdown",
   "id": "e4d7926e",
   "metadata": {},
   "source": [
    "# Predicting user churn for Waze"
   ]
  },
  {
   "cell_type": "markdown",
   "id": "da11f532",
   "metadata": {},
   "source": [
    "Welcome to this comprehensive report on the Waze project, a machine learning initiative focused on modeling user churn. The primary goal of this project is to provide the Waze leadership with data-driven insights to inform business decisions, improve user retention, and drive business growth."
   ]
  },
  {
   "cell_type": "markdown",
   "id": "284c5584",
   "metadata": {},
   "source": [
    "#### Project Context"
   ]
  },
  {
   "cell_type": "markdown",
   "id": "6611b66c",
   "metadata": {},
   "source": [
    "As part of my data science portfolio, I have undertaken the task of developing a machine learning model to predict whether a Waze user is likely to churn or be retained. To achieve this, I built and evaluated three tree-based models: a **Decision Tree**, a **Random Forest**, and an **XGBoost**. These models will help identify the key factors that contribute to user churn and allow me to anticipate user behavior more effectively."
   ]
  },
  {
   "cell_type": "markdown",
   "id": "aa732b52",
   "metadata": {},
   "source": [
    "#### Project Objectives"
   ]
  },
  {
   "cell_type": "markdown",
   "id": "eebbeae5",
   "metadata": {},
   "source": [
    "The ultimate purpose of this model is to find the factors that drive user churn. The specific goal is to predict whether a Waze user will be retained or will churn. To accomplish this, my work is structured into three main parts:\n",
    "\n",
    "1. Ethical Considerations\n",
    "\n",
    "    Evaluate the ethical implications of the request.\n",
    "    \n",
    "    Ensure that the benefits of the model outweigh potential problems.\n",
    "\n",
    "2. Feature Engineering\n",
    "\n",
    "    Perform feature selection, extraction, and transformation to prepare the data for modeling.\n",
    "\n",
    "3. Modeling\n",
    "\n",
    "    Build and evaluate the Decision Tree, Random Forest, and XGBoost models.\n",
    "    \n",
    "    Provide recommendations for next steps."
   ]
  },
  {
   "cell_type": "markdown",
   "id": "297ce5b5",
   "metadata": {},
   "source": [
    "Before proceeding with modeling, I carefully considered the ethical implications of this project, particularly the consequences of model errors.\n",
    "\n",
    "False Negative (FN): The model predicts a user will not churn, but they do.\n",
    "\n",
    "Consequence: Waze fails to take proactive measures to retain the user, potentially leading to a loss.\n",
    "\n",
    "False Positive (FP): The model predicts a user will churn, but they do not.\n",
    "\n",
    "Consequence: Waze may take unnecessary retention measures, which could annoy loyal users and negatively impact their experience.\n",
    "\n",
    "Despite these risks, the benefits of such a model are considered to outweigh the potential problems. I will proceed with building the model, with the recommendation that any proactive retention measures be followed up with an analysis of their effectiveness to ensure they do not unintentionally encourage churn."
   ]
  },
  {
   "cell_type": "markdown",
   "id": "1a02bc26",
   "metadata": {},
   "source": [
    " # Imports and data loading"
   ]
  },
  {
   "cell_type": "code",
   "execution_count": 1,
   "id": "494616e8",
   "metadata": {},
   "outputs": [],
   "source": [
    "# Data manipulation\n",
    "import numpy as np\n",
    "import pandas as pd\n",
    "\n",
    "# Visualisation\n",
    "import matplotlib.pyplot as plt\n",
    "\n",
    "# Show all columns when displaying DataFrames\n",
    "pd.set_option('display.max_columns', None)\n",
    "\n",
    "# Machine learning models - Decision tress and random forests \n",
    "from sklearn.tree import DecisionTreeClassifier\n",
    "from sklearn.ensemble import RandomForestClassifier\n",
    "\n",
    "# Gradient boosting model with XGBoost\n",
    "from xgboost import XGBClassifier\n",
    "\n",
    "# Utility for counting elements\n",
    "from collections import Counter\n",
    "\n",
    "# Data splitting and hyperparameter tuning \n",
    "from sklearn.model_selection import train_test_split, GridSearchCV\n",
    "\n",
    "# Model evaluation metrics (from scikit-learn)\n",
    "from sklearn.metrics import (\n",
    "    f1_score,               # F1 score\n",
    "    recall_score,           # Recall\n",
    "    precision_score,        # Precision\n",
    "    accuracy_score,         # Accuracy\n",
    "    confusion_matrix,       # Confusion matrix values\n",
    "    ConfusionMatrixDisplay, # Visualization of the confusion matrix\n",
    "    roc_auc_score,          # ROC AUC score\n",
    "    make_scorer,            # Custom scorer for model evaluation\n",
    "    roc_curve               # ROC curve values\n",
    ")\n",
    "\n",
    "# Feature importance visualization for XGBoost\n",
    "from xgboost import plot_importance\n",
    "\n",
    "# Saving and loading Python objects/models\n",
    "import pickle"
   ]
  },
  {
   "cell_type": "code",
   "execution_count": 2,
   "id": "00427e84",
   "metadata": {},
   "outputs": [],
   "source": [
    "# Load the dataset from a CSV file into a Pandas DataFrame\n",
    "df0 = pd.read_csv('C:/Users/ee391987/OneDrive - UQAM/Perso/LANGAGE/ML/waze_dataset.csv')"
   ]
  },
  {
   "cell_type": "code",
   "execution_count": 3,
   "id": "60bd01d7",
   "metadata": {},
   "outputs": [
    {
     "data": {
      "text/plain": [
       "(14999, 13)"
      ]
     },
     "execution_count": 3,
     "metadata": {},
     "output_type": "execute_result"
    }
   ],
   "source": [
    "# Display the dimensions of the DataFrame as (number of rows, number of columns) \n",
    "df0.shape"
   ]
  },
  {
   "cell_type": "code",
   "execution_count": 4,
   "id": "95238eaf",
   "metadata": {},
   "outputs": [
    {
     "data": {
      "text/html": [
       "<div>\n",
       "<style scoped>\n",
       "    .dataframe tbody tr th:only-of-type {\n",
       "        vertical-align: middle;\n",
       "    }\n",
       "\n",
       "    .dataframe tbody tr th {\n",
       "        vertical-align: top;\n",
       "    }\n",
       "\n",
       "    .dataframe thead th {\n",
       "        text-align: right;\n",
       "    }\n",
       "</style>\n",
       "<table border=\"1\" class=\"dataframe\">\n",
       "  <thead>\n",
       "    <tr style=\"text-align: right;\">\n",
       "      <th></th>\n",
       "      <th>ID</th>\n",
       "      <th>label</th>\n",
       "      <th>sessions</th>\n",
       "      <th>drives</th>\n",
       "      <th>total_sessions</th>\n",
       "      <th>n_days_after_onboarding</th>\n",
       "      <th>total_navigations_fav1</th>\n",
       "      <th>total_navigations_fav2</th>\n",
       "      <th>driven_km_drives</th>\n",
       "      <th>duration_minutes_drives</th>\n",
       "      <th>activity_days</th>\n",
       "      <th>driving_days</th>\n",
       "      <th>device</th>\n",
       "    </tr>\n",
       "  </thead>\n",
       "  <tbody>\n",
       "    <tr>\n",
       "      <th>0</th>\n",
       "      <td>0</td>\n",
       "      <td>retained</td>\n",
       "      <td>283</td>\n",
       "      <td>226</td>\n",
       "      <td>296.748273</td>\n",
       "      <td>2276</td>\n",
       "      <td>208</td>\n",
       "      <td>0</td>\n",
       "      <td>2628.845068</td>\n",
       "      <td>1985.775061</td>\n",
       "      <td>28</td>\n",
       "      <td>19</td>\n",
       "      <td>Android</td>\n",
       "    </tr>\n",
       "    <tr>\n",
       "      <th>1</th>\n",
       "      <td>1</td>\n",
       "      <td>retained</td>\n",
       "      <td>133</td>\n",
       "      <td>107</td>\n",
       "      <td>326.896596</td>\n",
       "      <td>1225</td>\n",
       "      <td>19</td>\n",
       "      <td>64</td>\n",
       "      <td>13715.920550</td>\n",
       "      <td>3160.472914</td>\n",
       "      <td>13</td>\n",
       "      <td>11</td>\n",
       "      <td>iPhone</td>\n",
       "    </tr>\n",
       "    <tr>\n",
       "      <th>2</th>\n",
       "      <td>2</td>\n",
       "      <td>retained</td>\n",
       "      <td>114</td>\n",
       "      <td>95</td>\n",
       "      <td>135.522926</td>\n",
       "      <td>2651</td>\n",
       "      <td>0</td>\n",
       "      <td>0</td>\n",
       "      <td>3059.148818</td>\n",
       "      <td>1610.735904</td>\n",
       "      <td>14</td>\n",
       "      <td>8</td>\n",
       "      <td>Android</td>\n",
       "    </tr>\n",
       "    <tr>\n",
       "      <th>3</th>\n",
       "      <td>3</td>\n",
       "      <td>retained</td>\n",
       "      <td>49</td>\n",
       "      <td>40</td>\n",
       "      <td>67.589221</td>\n",
       "      <td>15</td>\n",
       "      <td>322</td>\n",
       "      <td>7</td>\n",
       "      <td>913.591123</td>\n",
       "      <td>587.196542</td>\n",
       "      <td>7</td>\n",
       "      <td>3</td>\n",
       "      <td>iPhone</td>\n",
       "    </tr>\n",
       "    <tr>\n",
       "      <th>4</th>\n",
       "      <td>4</td>\n",
       "      <td>retained</td>\n",
       "      <td>84</td>\n",
       "      <td>68</td>\n",
       "      <td>168.247020</td>\n",
       "      <td>1562</td>\n",
       "      <td>166</td>\n",
       "      <td>5</td>\n",
       "      <td>3950.202008</td>\n",
       "      <td>1219.555924</td>\n",
       "      <td>27</td>\n",
       "      <td>18</td>\n",
       "      <td>Android</td>\n",
       "    </tr>\n",
       "  </tbody>\n",
       "</table>\n",
       "</div>"
      ],
      "text/plain": [
       "   ID     label  sessions  drives  total_sessions  n_days_after_onboarding  \\\n",
       "0   0  retained       283     226      296.748273                     2276   \n",
       "1   1  retained       133     107      326.896596                     1225   \n",
       "2   2  retained       114      95      135.522926                     2651   \n",
       "3   3  retained        49      40       67.589221                       15   \n",
       "4   4  retained        84      68      168.247020                     1562   \n",
       "\n",
       "   total_navigations_fav1  total_navigations_fav2  driven_km_drives  \\\n",
       "0                     208                       0       2628.845068   \n",
       "1                      19                      64      13715.920550   \n",
       "2                       0                       0       3059.148818   \n",
       "3                     322                       7        913.591123   \n",
       "4                     166                       5       3950.202008   \n",
       "\n",
       "   duration_minutes_drives  activity_days  driving_days   device  \n",
       "0              1985.775061             28            19  Android  \n",
       "1              3160.472914             13            11   iPhone  \n",
       "2              1610.735904             14             8  Android  \n",
       "3               587.196542              7             3   iPhone  \n",
       "4              1219.555924             27            18  Android  "
      ]
     },
     "execution_count": 4,
     "metadata": {},
     "output_type": "execute_result"
    }
   ],
   "source": [
    "# Display the first 5 rows of the DataFrame\n",
    "df0.head()"
   ]
  },
  {
   "cell_type": "markdown",
   "id": "a2eb1b86",
   "metadata": {},
   "source": [
    "# Feature engineering"
   ]
  },
  {
   "cell_type": "markdown",
   "id": "220e5422",
   "metadata": {},
   "source": [
    "In this stage, several new features were created to enhance the dataset and potentially improve churn prediction models. The original dataset df0 was preserved, and a working copy df was used. The dataset was used to create new variables that could improve churn prediction, such as average kilometers per driving day, percentage of sessions in the last month, professional driver indicators, average sessions per day since onboarding, average speed, kilometers per drive, and percentage of drives to favorite locations. Infinite values from divisions by zero were replaced with zero, and domain knowledge was applied to define meaningful thresholds, while noting potential data quality issues in some calculated features."
   ]
  },
  {
   "cell_type": "code",
   "execution_count": 5,
   "id": "c5f34b20",
   "metadata": {},
   "outputs": [],
   "source": [
    "# Copy the df0 dataframe\n",
    "df = df0.copy()"
   ]
  },
  {
   "cell_type": "code",
   "execution_count": 6,
   "id": "6f28fa06",
   "metadata": {},
   "outputs": [
    {
     "name": "stdout",
     "output_type": "stream",
     "text": [
      "<class 'pandas.core.frame.DataFrame'>\n",
      "RangeIndex: 14999 entries, 0 to 14998\n",
      "Data columns (total 13 columns):\n",
      " #   Column                   Non-Null Count  Dtype  \n",
      "---  ------                   --------------  -----  \n",
      " 0   ID                       14999 non-null  int64  \n",
      " 1   label                    14299 non-null  object \n",
      " 2   sessions                 14999 non-null  int64  \n",
      " 3   drives                   14999 non-null  int64  \n",
      " 4   total_sessions           14999 non-null  float64\n",
      " 5   n_days_after_onboarding  14999 non-null  int64  \n",
      " 6   total_navigations_fav1   14999 non-null  int64  \n",
      " 7   total_navigations_fav2   14999 non-null  int64  \n",
      " 8   driven_km_drives         14999 non-null  float64\n",
      " 9   duration_minutes_drives  14999 non-null  float64\n",
      " 10  activity_days            14999 non-null  int64  \n",
      " 11  driving_days             14999 non-null  int64  \n",
      " 12  device                   14999 non-null  object \n",
      "dtypes: float64(3), int64(8), object(2)\n",
      "memory usage: 1.5+ MB\n"
     ]
    }
   ],
   "source": [
    "df.info()"
   ]
  },
  {
   "cell_type": "code",
   "execution_count": 7,
   "id": "01011aba",
   "metadata": {},
   "outputs": [
    {
     "name": "stdout",
     "output_type": "stream",
     "text": [
      "No duplicate rows found.\n"
     ]
    }
   ],
   "source": [
    "duplicates = df[df.duplicated()]\n",
    "\n",
    "if duplicates.empty:\n",
    "    print(\"No duplicate rows found.\")\n",
    "else:\n",
    "    print(f\"Found {len(duplicates)} duplicate rows:\")\n",
    "    print(duplicates)"
   ]
  },
  {
   "cell_type": "code",
   "execution_count": 8,
   "id": "215531bd",
   "metadata": {},
   "outputs": [
    {
     "data": {
      "text/plain": [
       "count    1.499900e+04\n",
       "mean              inf\n",
       "std               NaN\n",
       "min      3.022063e+00\n",
       "25%      1.672804e+02\n",
       "50%      3.231459e+02\n",
       "75%      7.579257e+02\n",
       "max               inf\n",
       "Name: km_per_driving_day, dtype: float64"
      ]
     },
     "execution_count": 8,
     "metadata": {},
     "output_type": "execute_result"
    }
   ],
   "source": [
    "# # Calculate average kilometers driven per driving day in the last month\n",
    "df['km_per_driving_day'] = df['driven_km_drives'] / df['driving_days']\n",
    "\n",
    "# Display basic statistics to check the new feature\n",
    "df['km_per_driving_day'].describe()"
   ]
  },
  {
   "cell_type": "code",
   "execution_count": 9,
   "id": "bbd2f977",
   "metadata": {},
   "outputs": [],
   "source": [
    "# Note: Infinite values appear due to division by zero in 'driving_days'"
   ]
  },
  {
   "cell_type": "code",
   "execution_count": 10,
   "id": "7116d0f6",
   "metadata": {},
   "outputs": [
    {
     "data": {
      "text/plain": [
       "count    14999.000000\n",
       "mean       578.963113\n",
       "std       1030.094384\n",
       "min          0.000000\n",
       "25%        136.238895\n",
       "50%        272.889272\n",
       "75%        558.686918\n",
       "max      15420.234110\n",
       "Name: km_per_driving_day, dtype: float64"
      ]
     },
     "execution_count": 10,
     "metadata": {},
     "output_type": "execute_result"
    }
   ],
   "source": [
    "# Replace infinite values with zero to handle division by zero cases\n",
    "df.loc[df['km_per_driving_day'] == np.inf, 'km_per_driving_day'] = 0\n",
    "\n",
    "# Verify that infinite values have been replaced\n",
    "df['km_per_driving_day'].describe()"
   ]
  },
  {
   "cell_type": "code",
   "execution_count": 11,
   "id": "9d358f6c",
   "metadata": {},
   "outputs": [
    {
     "data": {
      "text/plain": [
       "count    14999.000000\n",
       "mean         0.449255\n",
       "std          0.286919\n",
       "min          0.000000\n",
       "25%          0.196221\n",
       "50%          0.423097\n",
       "75%          0.687216\n",
       "max          1.530637\n",
       "Name: percent_sessions_in_last_month, dtype: float64"
      ]
     },
     "execution_count": 11,
     "metadata": {},
     "output_type": "execute_result"
    }
   ],
   "source": [
    "# Calculate the proportion of total sessions that occurred in the last month\n",
    "df['percent_sessions_in_last_month'] = df['sessions'] / df['total_sessions']\n",
    "\n",
    "# Display summary statistics to understand the distribution of this feature\n",
    "df['percent_sessions_in_last_month'].describe()"
   ]
  },
  {
   "cell_type": "code",
   "execution_count": 12,
   "id": "ca4c8f00",
   "metadata": {},
   "outputs": [
    {
     "data": {
      "text/plain": [
       "0    12405\n",
       "1     2594\n",
       "Name: professional_driver, dtype: int64"
      ]
     },
     "execution_count": 12,
     "metadata": {},
     "output_type": "execute_result"
    }
   ],
   "source": [
    "# Create a binary feature to identify professional drivers\n",
    "# Criteria: at least 60 drives and 15+ driving days in the last month\n",
    "df['professional_driver'] = np.where((df['drives'] >=60) & (df['driving_days']>=15),1,0)\n",
    "df['professional_driver'].value_counts()"
   ]
  },
  {
   "cell_type": "code",
   "execution_count": 13,
   "id": "b932d6d3",
   "metadata": {},
   "outputs": [
    {
     "data": {
      "text/plain": [
       "count    14999.000000\n",
       "mean         0.338698\n",
       "std          1.314333\n",
       "min          0.000298\n",
       "25%          0.051037\n",
       "50%          0.100775\n",
       "75%          0.216269\n",
       "max         39.763874\n",
       "Name: total_sessions_per_day, dtype: float64"
      ]
     },
     "execution_count": 13,
     "metadata": {},
     "output_type": "execute_result"
    }
   ],
   "source": [
    "# Calculate average number of sessions per day since onboarding\n",
    "df['total_sessions_per_day'] = df['total_sessions']/df['n_days_after_onboarding']\n",
    "\n",
    "# Show descriptive statistics for the new feature\n",
    "df['total_sessions_per_day'].describe()"
   ]
  },
  {
   "cell_type": "code",
   "execution_count": 14,
   "id": "88d31ffa",
   "metadata": {},
   "outputs": [
    {
     "data": {
      "text/plain": [
       "count    14999.000000\n",
       "mean       190.394608\n",
       "std        334.674026\n",
       "min         72.013095\n",
       "25%         90.706222\n",
       "50%        122.382022\n",
       "75%        193.130119\n",
       "max      23642.920871\n",
       "Name: km_per_hour, dtype: float64"
      ]
     },
     "execution_count": 14,
     "metadata": {},
     "output_type": "execute_result"
    }
   ],
   "source": [
    "# Calculate average kilometers driven per hour in the last month\n",
    "df['km_per_hour'] = (60* df['driven_km_drives'] / df['duration_minutes_drives'])\n",
    "\n",
    "# Display descriptive statistics to examine the distribution\n",
    "df['km_per_hour'].describe()"
   ]
  },
  {
   "cell_type": "code",
   "execution_count": 16,
   "id": "325e1f2f",
   "metadata": {},
   "outputs": [
    {
     "data": {
      "text/plain": [
       "count    1.499900e+04\n",
       "mean              inf\n",
       "std               NaN\n",
       "min      1.008775e+00\n",
       "25%      3.323065e+01\n",
       "50%      7.488006e+01\n",
       "75%      1.854667e+02\n",
       "max               inf\n",
       "Name: km_per_drive, dtype: float64"
      ]
     },
     "execution_count": 16,
     "metadata": {},
     "output_type": "execute_result"
    }
   ],
   "source": [
    "# Calculate average kilometers per drive in the last month\n",
    "df['km_per_drive'] = df['driven_km_drives'] / df['drives']\n",
    "\n",
    "# Display summary statistics to inspect the new feature\n",
    "df['km_per_drive'].describe()"
   ]
  },
  {
   "cell_type": "code",
   "execution_count": 17,
   "id": "3af0b9e0",
   "metadata": {},
   "outputs": [
    {
     "data": {
      "text/plain": [
       "count    14999.000000\n",
       "mean       232.817946\n",
       "std        620.622351\n",
       "min          0.000000\n",
       "25%         32.424301\n",
       "50%         72.854343\n",
       "75%        179.347527\n",
       "max      15777.426560\n",
       "Name: km_per_drive, dtype: float64"
      ]
     },
     "execution_count": 17,
     "metadata": {},
     "output_type": "execute_result"
    }
   ],
   "source": [
    "# Replace infinite values (due to division by zero) with zero\n",
    "df.loc[df['km_per_drive'] == np.inf,'km_per_drive'] = 0\n",
    "\n",
    "# Confirm that infinite values have been handled\n",
    "df['km_per_drive'].describe()"
   ]
  },
  {
   "cell_type": "code",
   "execution_count": 18,
   "id": "b54a3f28",
   "metadata": {},
   "outputs": [
    {
     "data": {
      "text/plain": [
       "count    14999.000000\n",
       "mean         1.665439\n",
       "std          8.865666\n",
       "min          0.000000\n",
       "25%          0.203471\n",
       "50%          0.649818\n",
       "75%          1.638526\n",
       "max        777.563629\n",
       "Name: perent_of_sessions_to_favorite, dtype: float64"
      ]
     },
     "execution_count": 18,
     "metadata": {},
     "output_type": "execute_result"
    }
   ],
   "source": [
    "# Calculate percentage of total sessions directed to favorite places\n",
    "# Serves as a proxy for percent of drives to favorite locations\n",
    "df['perent_of_sessions_to_favorite'] = (df['total_navigations_fav1'] + df['total_navigations_fav2']) / df['total_sessions']\n",
    "\n",
    "# Display descriptive statistics for this feature\n",
    "df['perent_of_sessions_to_favorite'].describe()"
   ]
  },
  {
   "cell_type": "markdown",
   "id": "5bd4c9f8",
   "metadata": {},
   "source": [
    "# Drop missing values"
   ]
  },
  {
   "cell_type": "code",
   "execution_count": 19,
   "id": "b25e7475",
   "metadata": {},
   "outputs": [],
   "source": [
    "# Drop rows with missing values in the target column 'label' (less than 5%, assumed missing at random)\n",
    "df = df.dropna(subset=['label']).copy()"
   ]
  },
  {
   "cell_type": "markdown",
   "id": "472315a4",
   "metadata": {},
   "source": [
    "The target variable `label` is imbalanced, with 11,763 (82%) users retained and 2,536 (18%) users who churned. This class distribution will be important to consider when choosing evaluation metrics and modeling strategies."
   ]
  },
  {
   "cell_type": "markdown",
   "id": "6746868e",
   "metadata": {},
   "source": [
    "# Variable encoding"
   ]
  },
  {
   "cell_type": "markdown",
   "id": "23a1f2ea",
   "metadata": {},
   "source": [
    "##### Categorical Features"
   ]
  },
  {
   "cell_type": "markdown",
   "id": "3847e5b8",
   "metadata": {},
   "source": [
    "Since the `device` feature is categorical and only has two categories, it can be directly converted into a numeric binary format for modeling."
   ]
  },
  {
   "cell_type": "code",
   "execution_count": 20,
   "id": "da97e43c",
   "metadata": {},
   "outputs": [
    {
     "data": {
      "text/html": [
       "<div>\n",
       "<style scoped>\n",
       "    .dataframe tbody tr th:only-of-type {\n",
       "        vertical-align: middle;\n",
       "    }\n",
       "\n",
       "    .dataframe tbody tr th {\n",
       "        vertical-align: top;\n",
       "    }\n",
       "\n",
       "    .dataframe thead th {\n",
       "        text-align: right;\n",
       "    }\n",
       "</style>\n",
       "<table border=\"1\" class=\"dataframe\">\n",
       "  <thead>\n",
       "    <tr style=\"text-align: right;\">\n",
       "      <th></th>\n",
       "      <th>device</th>\n",
       "      <th>device2</th>\n",
       "    </tr>\n",
       "  </thead>\n",
       "  <tbody>\n",
       "    <tr>\n",
       "      <th>14994</th>\n",
       "      <td>iPhone</td>\n",
       "      <td>1</td>\n",
       "    </tr>\n",
       "    <tr>\n",
       "      <th>14995</th>\n",
       "      <td>Android</td>\n",
       "      <td>0</td>\n",
       "    </tr>\n",
       "    <tr>\n",
       "      <th>14996</th>\n",
       "      <td>iPhone</td>\n",
       "      <td>1</td>\n",
       "    </tr>\n",
       "    <tr>\n",
       "      <th>14997</th>\n",
       "      <td>iPhone</td>\n",
       "      <td>1</td>\n",
       "    </tr>\n",
       "    <tr>\n",
       "      <th>14998</th>\n",
       "      <td>iPhone</td>\n",
       "      <td>1</td>\n",
       "    </tr>\n",
       "  </tbody>\n",
       "</table>\n",
       "</div>"
      ],
      "text/plain": [
       "        device  device2\n",
       "14994   iPhone        1\n",
       "14995  Android        0\n",
       "14996   iPhone        1\n",
       "14997   iPhone        1\n",
       "14998   iPhone        1"
      ]
     },
     "execution_count": 20,
     "metadata": {},
     "output_type": "execute_result"
    }
   ],
   "source": [
    "## Encode 'device' as binary: Android=0, iPhone=1\n",
    "df['device2'] = df['device'].map({'Android':0, 'iPhone':1})\n",
    "\n",
    "# Check the new binary device encoding\n",
    "df[['device','device2']].tail()"
   ]
  },
  {
   "cell_type": "markdown",
   "id": "2f277177",
   "metadata": {},
   "source": [
    "The target variable `label` is categorical (\"retained\" or \"churned\"). To train classification models, convert it to binary numeric form. Assign 0 for retained users and 1 for churned users, storing this in a new column `label2` to keep the original intact."
   ]
  },
  {
   "cell_type": "code",
   "execution_count": 21,
   "id": "cdf0014a",
   "metadata": {},
   "outputs": [
    {
     "data": {
      "text/html": [
       "<div>\n",
       "<style scoped>\n",
       "    .dataframe tbody tr th:only-of-type {\n",
       "        vertical-align: middle;\n",
       "    }\n",
       "\n",
       "    .dataframe tbody tr th {\n",
       "        vertical-align: top;\n",
       "    }\n",
       "\n",
       "    .dataframe thead th {\n",
       "        text-align: right;\n",
       "    }\n",
       "</style>\n",
       "<table border=\"1\" class=\"dataframe\">\n",
       "  <thead>\n",
       "    <tr style=\"text-align: right;\">\n",
       "      <th></th>\n",
       "      <th>label</th>\n",
       "      <th>label2</th>\n",
       "    </tr>\n",
       "  </thead>\n",
       "  <tbody>\n",
       "    <tr>\n",
       "      <th>14994</th>\n",
       "      <td>retained</td>\n",
       "      <td>0</td>\n",
       "    </tr>\n",
       "    <tr>\n",
       "      <th>14995</th>\n",
       "      <td>retained</td>\n",
       "      <td>0</td>\n",
       "    </tr>\n",
       "    <tr>\n",
       "      <th>14996</th>\n",
       "      <td>retained</td>\n",
       "      <td>0</td>\n",
       "    </tr>\n",
       "    <tr>\n",
       "      <th>14997</th>\n",
       "      <td>churned</td>\n",
       "      <td>1</td>\n",
       "    </tr>\n",
       "    <tr>\n",
       "      <th>14998</th>\n",
       "      <td>retained</td>\n",
       "      <td>0</td>\n",
       "    </tr>\n",
       "  </tbody>\n",
       "</table>\n",
       "</div>"
      ],
      "text/plain": [
       "          label  label2\n",
       "14994  retained       0\n",
       "14995  retained       0\n",
       "14996  retained       0\n",
       "14997   churned       1\n",
       "14998  retained       0"
      ]
     },
     "execution_count": 21,
     "metadata": {},
     "output_type": "execute_result"
    }
   ],
   "source": [
    "#  Convert target 'label' to binary: churned=1, retained=0\n",
    "df['label2'] = df['label'].map({'retained':0, 'churned':1})\n",
    "\n",
    "# Verify the binary target variable\n",
    "df[['label','label2']].tail()"
   ]
  },
  {
   "cell_type": "code",
   "execution_count": 22,
   "id": "06da1212",
   "metadata": {},
   "outputs": [
    {
     "name": "stdout",
     "output_type": "stream",
     "text": [
      "<class 'pandas.core.frame.DataFrame'>\n",
      "Int64Index: 14299 entries, 0 to 14998\n",
      "Data columns (total 22 columns):\n",
      " #   Column                          Non-Null Count  Dtype  \n",
      "---  ------                          --------------  -----  \n",
      " 0   ID                              14299 non-null  int64  \n",
      " 1   label                           14299 non-null  object \n",
      " 2   sessions                        14299 non-null  int64  \n",
      " 3   drives                          14299 non-null  int64  \n",
      " 4   total_sessions                  14299 non-null  float64\n",
      " 5   n_days_after_onboarding         14299 non-null  int64  \n",
      " 6   total_navigations_fav1          14299 non-null  int64  \n",
      " 7   total_navigations_fav2          14299 non-null  int64  \n",
      " 8   driven_km_drives                14299 non-null  float64\n",
      " 9   duration_minutes_drives         14299 non-null  float64\n",
      " 10  activity_days                   14299 non-null  int64  \n",
      " 11  driving_days                    14299 non-null  int64  \n",
      " 12  device                          14299 non-null  object \n",
      " 13  km_per_driving_day              14299 non-null  float64\n",
      " 14  percent_sessions_in_last_month  14299 non-null  float64\n",
      " 15  professional_driver             14299 non-null  int32  \n",
      " 16  total_sessions_per_day          14299 non-null  float64\n",
      " 17  km_per_hour                     14299 non-null  float64\n",
      " 18  km_per_drive                    14299 non-null  float64\n",
      " 19  perent_of_sessions_to_favorite  14299 non-null  float64\n",
      " 20  device2                         14299 non-null  int64  \n",
      " 21  label2                          14299 non-null  int64  \n",
      "dtypes: float64(9), int32(1), int64(10), object(2)\n",
      "memory usage: 2.5+ MB\n"
     ]
    }
   ],
   "source": [
    "df.info()"
   ]
  },
  {
   "cell_type": "code",
   "execution_count": 23,
   "id": "375210a8",
   "metadata": {},
   "outputs": [
    {
     "data": {
      "text/html": [
       "<div>\n",
       "<style scoped>\n",
       "    .dataframe tbody tr th:only-of-type {\n",
       "        vertical-align: middle;\n",
       "    }\n",
       "\n",
       "    .dataframe tbody tr th {\n",
       "        vertical-align: top;\n",
       "    }\n",
       "\n",
       "    .dataframe thead th {\n",
       "        text-align: right;\n",
       "    }\n",
       "</style>\n",
       "<table border=\"1\" class=\"dataframe\">\n",
       "  <thead>\n",
       "    <tr style=\"text-align: right;\">\n",
       "      <th></th>\n",
       "      <th>ID</th>\n",
       "      <th>label</th>\n",
       "      <th>sessions</th>\n",
       "      <th>drives</th>\n",
       "      <th>total_sessions</th>\n",
       "      <th>n_days_after_onboarding</th>\n",
       "      <th>total_navigations_fav1</th>\n",
       "      <th>total_navigations_fav2</th>\n",
       "      <th>driven_km_drives</th>\n",
       "      <th>duration_minutes_drives</th>\n",
       "      <th>activity_days</th>\n",
       "      <th>driving_days</th>\n",
       "      <th>device</th>\n",
       "      <th>km_per_driving_day</th>\n",
       "      <th>percent_sessions_in_last_month</th>\n",
       "      <th>professional_driver</th>\n",
       "      <th>total_sessions_per_day</th>\n",
       "      <th>km_per_hour</th>\n",
       "      <th>km_per_drive</th>\n",
       "      <th>perent_of_sessions_to_favorite</th>\n",
       "      <th>device2</th>\n",
       "      <th>label2</th>\n",
       "    </tr>\n",
       "  </thead>\n",
       "  <tbody>\n",
       "    <tr>\n",
       "      <th>0</th>\n",
       "      <td>0</td>\n",
       "      <td>retained</td>\n",
       "      <td>283</td>\n",
       "      <td>226</td>\n",
       "      <td>296.748273</td>\n",
       "      <td>2276</td>\n",
       "      <td>208</td>\n",
       "      <td>0</td>\n",
       "      <td>2628.845068</td>\n",
       "      <td>1985.775061</td>\n",
       "      <td>28</td>\n",
       "      <td>19</td>\n",
       "      <td>Android</td>\n",
       "      <td>138.360267</td>\n",
       "      <td>0.953670</td>\n",
       "      <td>1</td>\n",
       "      <td>0.130381</td>\n",
       "      <td>79.430298</td>\n",
       "      <td>11.632058</td>\n",
       "      <td>0.700931</td>\n",
       "      <td>0</td>\n",
       "      <td>0</td>\n",
       "    </tr>\n",
       "    <tr>\n",
       "      <th>1</th>\n",
       "      <td>1</td>\n",
       "      <td>retained</td>\n",
       "      <td>133</td>\n",
       "      <td>107</td>\n",
       "      <td>326.896596</td>\n",
       "      <td>1225</td>\n",
       "      <td>19</td>\n",
       "      <td>64</td>\n",
       "      <td>13715.920550</td>\n",
       "      <td>3160.472914</td>\n",
       "      <td>13</td>\n",
       "      <td>11</td>\n",
       "      <td>iPhone</td>\n",
       "      <td>1246.901868</td>\n",
       "      <td>0.406856</td>\n",
       "      <td>0</td>\n",
       "      <td>0.266854</td>\n",
       "      <td>260.389902</td>\n",
       "      <td>128.186173</td>\n",
       "      <td>0.253903</td>\n",
       "      <td>1</td>\n",
       "      <td>0</td>\n",
       "    </tr>\n",
       "    <tr>\n",
       "      <th>2</th>\n",
       "      <td>2</td>\n",
       "      <td>retained</td>\n",
       "      <td>114</td>\n",
       "      <td>95</td>\n",
       "      <td>135.522926</td>\n",
       "      <td>2651</td>\n",
       "      <td>0</td>\n",
       "      <td>0</td>\n",
       "      <td>3059.148818</td>\n",
       "      <td>1610.735904</td>\n",
       "      <td>14</td>\n",
       "      <td>8</td>\n",
       "      <td>Android</td>\n",
       "      <td>382.393602</td>\n",
       "      <td>0.841186</td>\n",
       "      <td>0</td>\n",
       "      <td>0.051121</td>\n",
       "      <td>113.953460</td>\n",
       "      <td>32.201567</td>\n",
       "      <td>0.000000</td>\n",
       "      <td>0</td>\n",
       "      <td>0</td>\n",
       "    </tr>\n",
       "    <tr>\n",
       "      <th>3</th>\n",
       "      <td>3</td>\n",
       "      <td>retained</td>\n",
       "      <td>49</td>\n",
       "      <td>40</td>\n",
       "      <td>67.589221</td>\n",
       "      <td>15</td>\n",
       "      <td>322</td>\n",
       "      <td>7</td>\n",
       "      <td>913.591123</td>\n",
       "      <td>587.196542</td>\n",
       "      <td>7</td>\n",
       "      <td>3</td>\n",
       "      <td>iPhone</td>\n",
       "      <td>304.530374</td>\n",
       "      <td>0.724968</td>\n",
       "      <td>0</td>\n",
       "      <td>4.505948</td>\n",
       "      <td>93.351141</td>\n",
       "      <td>22.839778</td>\n",
       "      <td>4.867640</td>\n",
       "      <td>1</td>\n",
       "      <td>0</td>\n",
       "    </tr>\n",
       "    <tr>\n",
       "      <th>4</th>\n",
       "      <td>4</td>\n",
       "      <td>retained</td>\n",
       "      <td>84</td>\n",
       "      <td>68</td>\n",
       "      <td>168.247020</td>\n",
       "      <td>1562</td>\n",
       "      <td>166</td>\n",
       "      <td>5</td>\n",
       "      <td>3950.202008</td>\n",
       "      <td>1219.555924</td>\n",
       "      <td>27</td>\n",
       "      <td>18</td>\n",
       "      <td>Android</td>\n",
       "      <td>219.455667</td>\n",
       "      <td>0.499266</td>\n",
       "      <td>1</td>\n",
       "      <td>0.107713</td>\n",
       "      <td>194.342970</td>\n",
       "      <td>58.091206</td>\n",
       "      <td>1.016363</td>\n",
       "      <td>0</td>\n",
       "      <td>0</td>\n",
       "    </tr>\n",
       "    <tr>\n",
       "      <th>5</th>\n",
       "      <td>5</td>\n",
       "      <td>retained</td>\n",
       "      <td>113</td>\n",
       "      <td>103</td>\n",
       "      <td>279.544437</td>\n",
       "      <td>2637</td>\n",
       "      <td>0</td>\n",
       "      <td>0</td>\n",
       "      <td>901.238699</td>\n",
       "      <td>439.101397</td>\n",
       "      <td>15</td>\n",
       "      <td>11</td>\n",
       "      <td>iPhone</td>\n",
       "      <td>81.930791</td>\n",
       "      <td>0.404229</td>\n",
       "      <td>0</td>\n",
       "      <td>0.106009</td>\n",
       "      <td>123.147688</td>\n",
       "      <td>8.749890</td>\n",
       "      <td>0.000000</td>\n",
       "      <td>1</td>\n",
       "      <td>0</td>\n",
       "    </tr>\n",
       "    <tr>\n",
       "      <th>6</th>\n",
       "      <td>6</td>\n",
       "      <td>retained</td>\n",
       "      <td>3</td>\n",
       "      <td>2</td>\n",
       "      <td>236.725314</td>\n",
       "      <td>360</td>\n",
       "      <td>185</td>\n",
       "      <td>18</td>\n",
       "      <td>5249.172828</td>\n",
       "      <td>726.577205</td>\n",
       "      <td>28</td>\n",
       "      <td>23</td>\n",
       "      <td>iPhone</td>\n",
       "      <td>228.224906</td>\n",
       "      <td>0.012673</td>\n",
       "      <td>0</td>\n",
       "      <td>0.657570</td>\n",
       "      <td>433.471306</td>\n",
       "      <td>2624.586414</td>\n",
       "      <td>0.857534</td>\n",
       "      <td>1</td>\n",
       "      <td>0</td>\n",
       "    </tr>\n",
       "    <tr>\n",
       "      <th>7</th>\n",
       "      <td>7</td>\n",
       "      <td>retained</td>\n",
       "      <td>39</td>\n",
       "      <td>35</td>\n",
       "      <td>176.072845</td>\n",
       "      <td>2999</td>\n",
       "      <td>0</td>\n",
       "      <td>0</td>\n",
       "      <td>7892.052468</td>\n",
       "      <td>2466.981741</td>\n",
       "      <td>22</td>\n",
       "      <td>20</td>\n",
       "      <td>iPhone</td>\n",
       "      <td>394.602623</td>\n",
       "      <td>0.221499</td>\n",
       "      <td>0</td>\n",
       "      <td>0.058711</td>\n",
       "      <td>191.944326</td>\n",
       "      <td>225.487213</td>\n",
       "      <td>0.000000</td>\n",
       "      <td>1</td>\n",
       "      <td>0</td>\n",
       "    </tr>\n",
       "    <tr>\n",
       "      <th>8</th>\n",
       "      <td>8</td>\n",
       "      <td>retained</td>\n",
       "      <td>57</td>\n",
       "      <td>46</td>\n",
       "      <td>183.532018</td>\n",
       "      <td>424</td>\n",
       "      <td>0</td>\n",
       "      <td>26</td>\n",
       "      <td>2651.709764</td>\n",
       "      <td>1594.342984</td>\n",
       "      <td>25</td>\n",
       "      <td>20</td>\n",
       "      <td>Android</td>\n",
       "      <td>132.585488</td>\n",
       "      <td>0.310573</td>\n",
       "      <td>0</td>\n",
       "      <td>0.432859</td>\n",
       "      <td>99.791944</td>\n",
       "      <td>57.645864</td>\n",
       "      <td>0.141665</td>\n",
       "      <td>0</td>\n",
       "      <td>0</td>\n",
       "    </tr>\n",
       "    <tr>\n",
       "      <th>9</th>\n",
       "      <td>9</td>\n",
       "      <td>churned</td>\n",
       "      <td>84</td>\n",
       "      <td>68</td>\n",
       "      <td>244.802115</td>\n",
       "      <td>2997</td>\n",
       "      <td>72</td>\n",
       "      <td>0</td>\n",
       "      <td>6043.460295</td>\n",
       "      <td>2341.838528</td>\n",
       "      <td>7</td>\n",
       "      <td>3</td>\n",
       "      <td>iPhone</td>\n",
       "      <td>2014.486765</td>\n",
       "      <td>0.343134</td>\n",
       "      <td>0</td>\n",
       "      <td>0.081682</td>\n",
       "      <td>154.838864</td>\n",
       "      <td>88.874416</td>\n",
       "      <td>0.294115</td>\n",
       "      <td>1</td>\n",
       "      <td>1</td>\n",
       "    </tr>\n",
       "  </tbody>\n",
       "</table>\n",
       "</div>"
      ],
      "text/plain": [
       "   ID     label  sessions  drives  total_sessions  n_days_after_onboarding  \\\n",
       "0   0  retained       283     226      296.748273                     2276   \n",
       "1   1  retained       133     107      326.896596                     1225   \n",
       "2   2  retained       114      95      135.522926                     2651   \n",
       "3   3  retained        49      40       67.589221                       15   \n",
       "4   4  retained        84      68      168.247020                     1562   \n",
       "5   5  retained       113     103      279.544437                     2637   \n",
       "6   6  retained         3       2      236.725314                      360   \n",
       "7   7  retained        39      35      176.072845                     2999   \n",
       "8   8  retained        57      46      183.532018                      424   \n",
       "9   9   churned        84      68      244.802115                     2997   \n",
       "\n",
       "   total_navigations_fav1  total_navigations_fav2  driven_km_drives  \\\n",
       "0                     208                       0       2628.845068   \n",
       "1                      19                      64      13715.920550   \n",
       "2                       0                       0       3059.148818   \n",
       "3                     322                       7        913.591123   \n",
       "4                     166                       5       3950.202008   \n",
       "5                       0                       0        901.238699   \n",
       "6                     185                      18       5249.172828   \n",
       "7                       0                       0       7892.052468   \n",
       "8                       0                      26       2651.709764   \n",
       "9                      72                       0       6043.460295   \n",
       "\n",
       "   duration_minutes_drives  activity_days  driving_days   device  \\\n",
       "0              1985.775061             28            19  Android   \n",
       "1              3160.472914             13            11   iPhone   \n",
       "2              1610.735904             14             8  Android   \n",
       "3               587.196542              7             3   iPhone   \n",
       "4              1219.555924             27            18  Android   \n",
       "5               439.101397             15            11   iPhone   \n",
       "6               726.577205             28            23   iPhone   \n",
       "7              2466.981741             22            20   iPhone   \n",
       "8              1594.342984             25            20  Android   \n",
       "9              2341.838528              7             3   iPhone   \n",
       "\n",
       "   km_per_driving_day  percent_sessions_in_last_month  professional_driver  \\\n",
       "0          138.360267                        0.953670                    1   \n",
       "1         1246.901868                        0.406856                    0   \n",
       "2          382.393602                        0.841186                    0   \n",
       "3          304.530374                        0.724968                    0   \n",
       "4          219.455667                        0.499266                    1   \n",
       "5           81.930791                        0.404229                    0   \n",
       "6          228.224906                        0.012673                    0   \n",
       "7          394.602623                        0.221499                    0   \n",
       "8          132.585488                        0.310573                    0   \n",
       "9         2014.486765                        0.343134                    0   \n",
       "\n",
       "   total_sessions_per_day  km_per_hour  km_per_drive  \\\n",
       "0                0.130381    79.430298     11.632058   \n",
       "1                0.266854   260.389902    128.186173   \n",
       "2                0.051121   113.953460     32.201567   \n",
       "3                4.505948    93.351141     22.839778   \n",
       "4                0.107713   194.342970     58.091206   \n",
       "5                0.106009   123.147688      8.749890   \n",
       "6                0.657570   433.471306   2624.586414   \n",
       "7                0.058711   191.944326    225.487213   \n",
       "8                0.432859    99.791944     57.645864   \n",
       "9                0.081682   154.838864     88.874416   \n",
       "\n",
       "   perent_of_sessions_to_favorite  device2  label2  \n",
       "0                        0.700931        0       0  \n",
       "1                        0.253903        1       0  \n",
       "2                        0.000000        0       0  \n",
       "3                        4.867640        1       0  \n",
       "4                        1.016363        0       0  \n",
       "5                        0.000000        1       0  \n",
       "6                        0.857534        1       0  \n",
       "7                        0.000000        1       0  \n",
       "8                        0.141665        0       0  \n",
       "9                        0.294115        1       1  "
      ]
     },
     "execution_count": 23,
     "metadata": {},
     "output_type": "execute_result"
    }
   ],
   "source": [
    "df.head(10)"
   ]
  },
  {
   "cell_type": "markdown",
   "id": "ab0dc4fe",
   "metadata": {},
   "source": [
    "# Feature selection"
   ]
  },
  {
   "cell_type": "markdown",
   "id": "52928690",
   "metadata": {},
   "source": [
    "The `ID` column is just an identifier and does not carry predictive information, so it should be removed. Additionally, since `label` (the target) and `device` (categorical) have been converted into numeric variables (`label2` and `device2`), the original `label` and `device` columns should be dropped to avoid redundancy in the modeling data."
   ]
  },
  {
   "cell_type": "code",
   "execution_count": 24,
   "id": "8eb7d42d",
   "metadata": {},
   "outputs": [],
   "source": [
    "df = df.drop(['ID'], axis=1)"
   ]
  },
  {
   "cell_type": "markdown",
   "id": "db59ba78",
   "metadata": {},
   "source": [
    " "
   ]
  },
  {
   "cell_type": "markdown",
   "id": "d9e484cb",
   "metadata": {},
   "source": [
    "\n",
    "### **Evaluation Metrics and Class Imbalance**\n",
    "\n",
    "Before delving into the modeling process, it's crucial to select the most appropriate evaluation metric. This decision hinges on two key factors: the class balance of our target variable and the specific business use case of the model.\n",
    "\n",
    "---\n",
    "\n",
    "### **Analyzing Class Imbalance**\n",
    "\n",
    "I first examined the distribution of our target variable, `label`, to understand the balance between the user classes.\n",
    "\n",
    "* **Retained Users**: Approximately **82%**\n",
    "* **Churned Users**: Approximately **18%**\n",
    "\n",
    "With 18% of users having churned, our dataset exhibits a **moderate class imbalance**. While this imbalance is not severe enough to require advanced rebalancing techniques (like SMOTE), it's a critical consideration for metric selection. Relying solely on **accuracy** would be misleading; a naive model that always predicts the majority class could achieve a high accuracy of 82% without ever identifying a single user at risk of churning.\n",
    "\n",
    "---\n",
    "\n",
    "### **Selecting the Optimal Evaluation Metric**\n",
    "\n",
    "The choice of metric must align with the business objective and the consequences of model errors. In this project, it was determined that the risk associated with a **false positive** prediction (the model predicts a user will churn, but they won't) is minimal. A loyal user might receive an unnecessary retention offer, but this carries no significant negative consequences.\n",
    "\n",
    "In contrast, a **false negative** prediction (the model predicts a user will not churn, but they do) has a direct and tangible business impact: Waze misses a crucial opportunity to retain a customer. To maximize the detection of all users who are likely to churn, it is imperative to prioritize **recall**.\n",
    "\n",
    "Therefore, the primary metric for evaluating and selecting the best model will be **recall**. A high recall score will ensure that we identify the largest possible proportion of at-risk users, enabling Waze to implement targeted and effective retention strategies."
   ]
  },
  {
   "cell_type": "code",
   "execution_count": 25,
   "id": "7896646a",
   "metadata": {},
   "outputs": [
    {
     "data": {
      "text/plain": [
       "0    0.822645\n",
       "1    0.177355\n",
       "Name: label2, dtype: float64"
      ]
     },
     "execution_count": 25,
     "metadata": {},
     "output_type": "execute_result"
    }
   ],
   "source": [
    "df['label2'].value_counts(normalize=True)"
   ]
  },
  {
   "cell_type": "markdown",
   "id": "45a52c67",
   "metadata": {},
   "source": [
    "# Data splitting"
   ]
  },
  {
   "cell_type": "markdown",
   "id": "cc386a32",
   "metadata": {},
   "source": [
    "The final modeling dataset includes 14,299 samples, which is on the lower side but still adequate for robust model selection. The data will be split into training, validation, and test sets using a 60/20/20 ratio. This ensures approximately 8,579 samples for training, and about 2,860 samples each for validation and testing.\n",
    "\n",
    "Special attention is given to the minority class (churned users), which represents around 18% of the data. This means roughly 515 churn cases will be present in both validation and test sets, providing enough examples to fairly evaluate model performance.\n",
    "\n",
    "The workflow consists of fitting and tuning models on the training set, selecting the best model using the validation set, and finally assessing the chosen model’s performance on the test set."
   ]
  },
  {
   "cell_type": "code",
   "execution_count": 26,
   "id": "8910251f",
   "metadata": {},
   "outputs": [],
   "source": [
    "# Prepare features and target, drop original label and device categorical columns\n",
    "X = df.drop(columns=['label', 'label2', 'device'])\n",
    "y = df['label2']\n",
    "\n",
    "# First split: separate out the test set (20%)\n",
    "X_temp, X_test, y_temp, y_test = train_test_split(X, y, train_size=0.2, stratify=y, random_state=42)\n",
    "\n",
    "# Second split: split remaining 80% into train (60%) and validation (20%)\n",
    "# Since X_temp is 80%, train size should be 0.75 to get 60% of total data\n",
    "X_train, X_val, y_train, y_val = train_test_split(X_temp, y_temp, train_size=0.25, stratify=y_temp, random_state=42)"
   ]
  },
  {
   "cell_type": "markdown",
   "id": "1a485c72",
   "metadata": {},
   "source": [
    "# Modeling"
   ]
  },
  {
   "cell_type": "code",
   "execution_count": 27,
   "id": "611341ae",
   "metadata": {},
   "outputs": [],
   "source": [
    "# list of scoring metrics to capture\n",
    "scoring = {\n",
    "    'precision': make_scorer(precision_score, zero_division=0),\n",
    "    'recall': make_scorer(recall_score, zero_division=0),\n",
    "    'f1': make_scorer(f1_score, zero_division=0),\n",
    "    'accuracy': make_scorer(accuracy_score)\n",
    "}\n",
    "\n",
    "\n",
    "def write_pickle(path, model_object, save_as:str):\n",
    "    '''\n",
    "    Save a model object to disk as a pickle file.\n",
    "    \n",
    "    Args:\n",
    "        path (str): Folder path where to save the pickle.\n",
    "        model_object: The model to be saved.\n",
    "        save_as (str): Filename (without extension) to save the model as.\n",
    "    \n",
    "    Returns:\n",
    "        None. The model is saved as a .pickle file.\n",
    "    '''\n",
    "    with open(path + save_as + '.pickle', 'wb') as to_write:\n",
    "        pickle.dump(model_object, to_write)\n",
    "        \n",
    "\n",
    "def read_pickle(path, saved_model_name:str):\n",
    "    '''\n",
    "    Load a pickled model object from disk.\n",
    "    \n",
    "    Args:\n",
    "        path (str): Folder path where the pickle is stored.\n",
    "        saved_model_name (str): Filename (without extension) of the pickled model.\n",
    "        \n",
    "    Returns:\n",
    "        The loaded model object.\n",
    "    '''\n",
    "    with open(path + saved_model_name + '.pickle', 'rb') as to_read:\n",
    "        model = pickle.load(to_read)\n",
    "    return model\n",
    "\n",
    "\n",
    "# Example path where models will be saved or loaded from\n",
    "path = 'C:/Users/ee391987/OneDrive - UQAM/Perso/LANGAGE/ML/'\n",
    "\n",
    "\n",
    "def make_results(model_name:str, model_object, metric:str):\n",
    "    '''\n",
    "    Generate a summary table of model performance metrics from a GridSearchCV object.\n",
    "    \n",
    "    Args:\n",
    "        model_name (str): Name to assign to the model in the output table.\n",
    "        model_object: Fitted GridSearchCV object containing cross-validation results.\n",
    "        metric (str): The metric used to select the best model ('precision', 'recall', 'f1', or 'accuracy').\n",
    "    \n",
    "    Returns:\n",
    "        pandas.DataFrame: Table with model name and its precision, recall, F1, and accuracy scores,\n",
    "                          based on the best mean score for the chosen metric across validation folds.\n",
    "    '''\n",
    "    # Mapping input metric to GridSearchCV result column names\n",
    "    metric_dict = {'precision': 'mean_test_precision',\n",
    "                   'recall': 'mean_test_recall',\n",
    "                   'f1': 'mean_test_f1',\n",
    "                   'accuracy': 'mean_test_accuracy'}\n",
    "\n",
    "    # Extract all CV results into a DataFrame\n",
    "    cv_results = pd.DataFrame(model_object.cv_results_)\n",
    "\n",
    "    # Find the row with the best mean score for the chosen metric\n",
    "    best_estimator_results = cv_results.iloc[cv_results[metric_dict[metric]].idxmax(), :]\n",
    "\n",
    "    # Extract relevant performance metrics from the best row\n",
    "    f1 = best_estimator_results.mean_test_f1\n",
    "    recall = best_estimator_results.mean_test_recall\n",
    "    precision = best_estimator_results.mean_test_precision\n",
    "    accuracy = best_estimator_results.mean_test_accuracy\n",
    "\n",
    "    # Build a results DataFrame\n",
    "    table = pd.DataFrame({'model': [model_name],\n",
    "                          'precision': [precision],\n",
    "                          'recall': [recall],\n",
    "                          'F1': [f1],\n",
    "                          'accuracy': [accuracy]})\n",
    "\n",
    "    return table\n"
   ]
  },
  {
   "cell_type": "markdown",
   "id": "6f0e0a79",
   "metadata": {},
   "source": [
    "## Decision Tree"
   ]
  },
  {
   "cell_type": "code",
   "execution_count": 28,
   "id": "30b5d6f0",
   "metadata": {},
   "outputs": [],
   "source": [
    "# Define hyperparameter grid to tune Decision Tree model\n",
    "dt_cv_params = {\n",
    "    'max_depth': [3, 5, 7, 10],\n",
    "    'min_samples_split': [10, 20, 50],\n",
    "    'min_samples_leaf': [5, 10, 20],\n",
    "    'max_features': ['sqrt', 'log2', None]\n",
    "}\n",
    "\n",
    "\n",
    "# Instantiate a Decision Tree classifier with balanced class weights for imbalanced data\n",
    "dt = DecisionTreeClassifier(random_state=42, class_weight=\"balanced\")\n",
    "\n",
    "# Set up GridSearchCV to perform hyperparameter tuning with 5-fold cross-validation,\n",
    "# optimizing for ROC AUC score and using the specified scoring metrics\n",
    "dt_cv = GridSearchCV( estimator = dt, param_grid = dt_cv_params, scoring= scoring, cv = 5, refit= 'recall')\n"
   ]
  },
  {
   "cell_type": "code",
   "execution_count": 28,
   "id": "3cb5315d",
   "metadata": {
    "scrolled": true
   },
   "outputs": [
    {
     "name": "stdout",
     "output_type": "stream",
     "text": [
      "CPU times: total: 6.86 s\n",
      "Wall time: 6.95 s\n"
     ]
    },
    {
     "data": {
      "text/html": [
       "<style>#sk-container-id-1 {color: black;background-color: white;}#sk-container-id-1 pre{padding: 0;}#sk-container-id-1 div.sk-toggleable {background-color: white;}#sk-container-id-1 label.sk-toggleable__label {cursor: pointer;display: block;width: 100%;margin-bottom: 0;padding: 0.3em;box-sizing: border-box;text-align: center;}#sk-container-id-1 label.sk-toggleable__label-arrow:before {content: \"▸\";float: left;margin-right: 0.25em;color: #696969;}#sk-container-id-1 label.sk-toggleable__label-arrow:hover:before {color: black;}#sk-container-id-1 div.sk-estimator:hover label.sk-toggleable__label-arrow:before {color: black;}#sk-container-id-1 div.sk-toggleable__content {max-height: 0;max-width: 0;overflow: hidden;text-align: left;background-color: #f0f8ff;}#sk-container-id-1 div.sk-toggleable__content pre {margin: 0.2em;color: black;border-radius: 0.25em;background-color: #f0f8ff;}#sk-container-id-1 input.sk-toggleable__control:checked~div.sk-toggleable__content {max-height: 200px;max-width: 100%;overflow: auto;}#sk-container-id-1 input.sk-toggleable__control:checked~label.sk-toggleable__label-arrow:before {content: \"▾\";}#sk-container-id-1 div.sk-estimator input.sk-toggleable__control:checked~label.sk-toggleable__label {background-color: #d4ebff;}#sk-container-id-1 div.sk-label input.sk-toggleable__control:checked~label.sk-toggleable__label {background-color: #d4ebff;}#sk-container-id-1 input.sk-hidden--visually {border: 0;clip: rect(1px 1px 1px 1px);clip: rect(1px, 1px, 1px, 1px);height: 1px;margin: -1px;overflow: hidden;padding: 0;position: absolute;width: 1px;}#sk-container-id-1 div.sk-estimator {font-family: monospace;background-color: #f0f8ff;border: 1px dotted black;border-radius: 0.25em;box-sizing: border-box;margin-bottom: 0.5em;}#sk-container-id-1 div.sk-estimator:hover {background-color: #d4ebff;}#sk-container-id-1 div.sk-parallel-item::after {content: \"\";width: 100%;border-bottom: 1px solid gray;flex-grow: 1;}#sk-container-id-1 div.sk-label:hover label.sk-toggleable__label {background-color: #d4ebff;}#sk-container-id-1 div.sk-serial::before {content: \"\";position: absolute;border-left: 1px solid gray;box-sizing: border-box;top: 0;bottom: 0;left: 50%;z-index: 0;}#sk-container-id-1 div.sk-serial {display: flex;flex-direction: column;align-items: center;background-color: white;padding-right: 0.2em;padding-left: 0.2em;position: relative;}#sk-container-id-1 div.sk-item {position: relative;z-index: 1;}#sk-container-id-1 div.sk-parallel {display: flex;align-items: stretch;justify-content: center;background-color: white;position: relative;}#sk-container-id-1 div.sk-item::before, #sk-container-id-1 div.sk-parallel-item::before {content: \"\";position: absolute;border-left: 1px solid gray;box-sizing: border-box;top: 0;bottom: 0;left: 50%;z-index: -1;}#sk-container-id-1 div.sk-parallel-item {display: flex;flex-direction: column;z-index: 1;position: relative;background-color: white;}#sk-container-id-1 div.sk-parallel-item:first-child::after {align-self: flex-end;width: 50%;}#sk-container-id-1 div.sk-parallel-item:last-child::after {align-self: flex-start;width: 50%;}#sk-container-id-1 div.sk-parallel-item:only-child::after {width: 0;}#sk-container-id-1 div.sk-dashed-wrapped {border: 1px dashed gray;margin: 0 0.4em 0.5em 0.4em;box-sizing: border-box;padding-bottom: 0.4em;background-color: white;}#sk-container-id-1 div.sk-label label {font-family: monospace;font-weight: bold;display: inline-block;line-height: 1.2em;}#sk-container-id-1 div.sk-label-container {text-align: center;}#sk-container-id-1 div.sk-container {/* jupyter's `normalize.less` sets `[hidden] { display: none; }` but bootstrap.min.css set `[hidden] { display: none !important; }` so we also need the `!important` here to be able to override the default hidden behavior on the sphinx rendered scikit-learn.org. See: https://github.com/scikit-learn/scikit-learn/issues/21755 */display: inline-block !important;position: relative;}#sk-container-id-1 div.sk-text-repr-fallback {display: none;}</style><div id=\"sk-container-id-1\" class=\"sk-top-container\"><div class=\"sk-text-repr-fallback\"><pre>GridSearchCV(cv=5,\n",
       "             estimator=DecisionTreeClassifier(class_weight=&#x27;balanced&#x27;,\n",
       "                                              random_state=42),\n",
       "             param_grid={&#x27;max_depth&#x27;: [3, 5, 7, 10],\n",
       "                         &#x27;max_features&#x27;: [&#x27;sqrt&#x27;, &#x27;log2&#x27;, None],\n",
       "                         &#x27;min_samples_leaf&#x27;: [5, 10, 20],\n",
       "                         &#x27;min_samples_split&#x27;: [10, 20, 50]},\n",
       "             refit=&#x27;recall&#x27;,\n",
       "             scoring={&#x27;accuracy&#x27;: make_scorer(accuracy_score),\n",
       "                      &#x27;f1&#x27;: make_scorer(f1_score, zero_division=0),\n",
       "                      &#x27;precision&#x27;: make_scorer(precision_score, zero_division=0),\n",
       "                      &#x27;recall&#x27;: make_scorer(recall_score, zero_division=0)})</pre><b>In a Jupyter environment, please rerun this cell to show the HTML representation or trust the notebook. <br />On GitHub, the HTML representation is unable to render, please try loading this page with nbviewer.org.</b></div><div class=\"sk-container\" hidden><div class=\"sk-item sk-dashed-wrapped\"><div class=\"sk-label-container\"><div class=\"sk-label sk-toggleable\"><input class=\"sk-toggleable__control sk-hidden--visually\" id=\"sk-estimator-id-1\" type=\"checkbox\" ><label for=\"sk-estimator-id-1\" class=\"sk-toggleable__label sk-toggleable__label-arrow\">GridSearchCV</label><div class=\"sk-toggleable__content\"><pre>GridSearchCV(cv=5,\n",
       "             estimator=DecisionTreeClassifier(class_weight=&#x27;balanced&#x27;,\n",
       "                                              random_state=42),\n",
       "             param_grid={&#x27;max_depth&#x27;: [3, 5, 7, 10],\n",
       "                         &#x27;max_features&#x27;: [&#x27;sqrt&#x27;, &#x27;log2&#x27;, None],\n",
       "                         &#x27;min_samples_leaf&#x27;: [5, 10, 20],\n",
       "                         &#x27;min_samples_split&#x27;: [10, 20, 50]},\n",
       "             refit=&#x27;recall&#x27;,\n",
       "             scoring={&#x27;accuracy&#x27;: make_scorer(accuracy_score),\n",
       "                      &#x27;f1&#x27;: make_scorer(f1_score, zero_division=0),\n",
       "                      &#x27;precision&#x27;: make_scorer(precision_score, zero_division=0),\n",
       "                      &#x27;recall&#x27;: make_scorer(recall_score, zero_division=0)})</pre></div></div></div><div class=\"sk-parallel\"><div class=\"sk-parallel-item\"><div class=\"sk-item\"><div class=\"sk-label-container\"><div class=\"sk-label sk-toggleable\"><input class=\"sk-toggleable__control sk-hidden--visually\" id=\"sk-estimator-id-2\" type=\"checkbox\" ><label for=\"sk-estimator-id-2\" class=\"sk-toggleable__label sk-toggleable__label-arrow\">estimator: DecisionTreeClassifier</label><div class=\"sk-toggleable__content\"><pre>DecisionTreeClassifier(class_weight=&#x27;balanced&#x27;, random_state=42)</pre></div></div></div><div class=\"sk-serial\"><div class=\"sk-item\"><div class=\"sk-estimator sk-toggleable\"><input class=\"sk-toggleable__control sk-hidden--visually\" id=\"sk-estimator-id-3\" type=\"checkbox\" ><label for=\"sk-estimator-id-3\" class=\"sk-toggleable__label sk-toggleable__label-arrow\">DecisionTreeClassifier</label><div class=\"sk-toggleable__content\"><pre>DecisionTreeClassifier(class_weight=&#x27;balanced&#x27;, random_state=42)</pre></div></div></div></div></div></div></div></div></div></div>"
      ],
      "text/plain": [
       "GridSearchCV(cv=5,\n",
       "             estimator=DecisionTreeClassifier(class_weight='balanced',\n",
       "                                              random_state=42),\n",
       "             param_grid={'max_depth': [3, 5, 7, 10],\n",
       "                         'max_features': ['sqrt', 'log2', None],\n",
       "                         'min_samples_leaf': [5, 10, 20],\n",
       "                         'min_samples_split': [10, 20, 50]},\n",
       "             refit='recall',\n",
       "             scoring={'accuracy': make_scorer(accuracy_score),\n",
       "                      'f1': make_scorer(f1_score, zero_division=0),\n",
       "                      'precision': make_scorer(precision_score, zero_division=0),\n",
       "                      'recall': make_scorer(recall_score, zero_division=0)})"
      ]
     },
     "execution_count": 28,
     "metadata": {},
     "output_type": "execute_result"
    }
   ],
   "source": [
    "%%time\n",
    "dt_cv.fit(X_train, y_train)"
   ]
  },
  {
   "cell_type": "code",
   "execution_count": 29,
   "id": "7eeaba3b",
   "metadata": {},
   "outputs": [
    {
     "data": {
      "text/plain": [
       "{'max_depth': 3,\n",
       " 'max_features': None,\n",
       " 'min_samples_leaf': 10,\n",
       " 'min_samples_split': 10}"
      ]
     },
     "execution_count": 29,
     "metadata": {},
     "output_type": "execute_result"
    }
   ],
   "source": [
    "# Save the trained GridSearchCV object to disk\n",
    "#write_pickle(path, dt_cv, 'results_dt_cv')\n",
    "#  Load the saved GridSearchCV object from disk\n",
    "dt_cv = read_pickle(path, 'results_dt_cv')\n",
    "\n",
    "# Display the best hyperparameters found by GridSearchCV\n",
    "dt_cv.best_params_"
   ]
  },
  {
   "cell_type": "code",
   "execution_count": 30,
   "id": "2b9e82fa",
   "metadata": {},
   "outputs": [],
   "source": [
    "# Generate a summary table of performance metrics for the Decision Tree model using recall as the selection metric\n",
    "dt_cv_results = make_results('Decision Tree CV', dt_cv, 'recall')\n",
    "\n",
    "# Copy the results for further use or comparison\n",
    "results = dt_cv_results.copy()"
   ]
  },
  {
   "cell_type": "markdown",
   "id": "218ca64d",
   "metadata": {},
   "source": [
    "## Random forest"
   ]
  },
  {
   "cell_type": "code",
   "execution_count": 33,
   "id": "f3cfa9c5",
   "metadata": {},
   "outputs": [],
   "source": [
    "# Define hyperparameter grid for tuning the Random Forest model\n",
    "rf_cv_params = {\n",
    "    'n_estimators': [100, 200, 300],\n",
    "    'max_depth': [5, 10, 15],\n",
    "    'min_samples_split': [10, 30, 50],\n",
    "    'min_samples_leaf': [5, 10, 20],\n",
    "    'max_features': ['sqrt', 'log2'],\n",
    "    'bootstrap': [True, False]\n",
    "}\n",
    "\n",
    "# Instantiate a Random Forest classifier with balanced class weights for imbalanced data\n",
    "rf = RandomForestClassifier(random_state=42, class_weight=\"balanced\")\n",
    "\n",
    "# Set up GridSearchCV for hyperparameter tuning with 5-fold CV,\n",
    "# optimizing for recall and using the provided scoring dictionary\n",
    "rf_cv = GridSearchCV(estimator=rf, param_grid=rf_cv_params, scoring=scoring, cv=5, refit='recall')"
   ]
  },
  {
   "cell_type": "code",
   "execution_count": 34,
   "id": "47ba9260",
   "metadata": {},
   "outputs": [
    {
     "name": "stdout",
     "output_type": "stream",
     "text": [
      "CPU times: total: 24min 40s\n",
      "Wall time: 25min 11s\n"
     ]
    },
    {
     "data": {
      "text/html": [
       "<style>#sk-container-id-2 {color: black;background-color: white;}#sk-container-id-2 pre{padding: 0;}#sk-container-id-2 div.sk-toggleable {background-color: white;}#sk-container-id-2 label.sk-toggleable__label {cursor: pointer;display: block;width: 100%;margin-bottom: 0;padding: 0.3em;box-sizing: border-box;text-align: center;}#sk-container-id-2 label.sk-toggleable__label-arrow:before {content: \"▸\";float: left;margin-right: 0.25em;color: #696969;}#sk-container-id-2 label.sk-toggleable__label-arrow:hover:before {color: black;}#sk-container-id-2 div.sk-estimator:hover label.sk-toggleable__label-arrow:before {color: black;}#sk-container-id-2 div.sk-toggleable__content {max-height: 0;max-width: 0;overflow: hidden;text-align: left;background-color: #f0f8ff;}#sk-container-id-2 div.sk-toggleable__content pre {margin: 0.2em;color: black;border-radius: 0.25em;background-color: #f0f8ff;}#sk-container-id-2 input.sk-toggleable__control:checked~div.sk-toggleable__content {max-height: 200px;max-width: 100%;overflow: auto;}#sk-container-id-2 input.sk-toggleable__control:checked~label.sk-toggleable__label-arrow:before {content: \"▾\";}#sk-container-id-2 div.sk-estimator input.sk-toggleable__control:checked~label.sk-toggleable__label {background-color: #d4ebff;}#sk-container-id-2 div.sk-label input.sk-toggleable__control:checked~label.sk-toggleable__label {background-color: #d4ebff;}#sk-container-id-2 input.sk-hidden--visually {border: 0;clip: rect(1px 1px 1px 1px);clip: rect(1px, 1px, 1px, 1px);height: 1px;margin: -1px;overflow: hidden;padding: 0;position: absolute;width: 1px;}#sk-container-id-2 div.sk-estimator {font-family: monospace;background-color: #f0f8ff;border: 1px dotted black;border-radius: 0.25em;box-sizing: border-box;margin-bottom: 0.5em;}#sk-container-id-2 div.sk-estimator:hover {background-color: #d4ebff;}#sk-container-id-2 div.sk-parallel-item::after {content: \"\";width: 100%;border-bottom: 1px solid gray;flex-grow: 1;}#sk-container-id-2 div.sk-label:hover label.sk-toggleable__label {background-color: #d4ebff;}#sk-container-id-2 div.sk-serial::before {content: \"\";position: absolute;border-left: 1px solid gray;box-sizing: border-box;top: 0;bottom: 0;left: 50%;z-index: 0;}#sk-container-id-2 div.sk-serial {display: flex;flex-direction: column;align-items: center;background-color: white;padding-right: 0.2em;padding-left: 0.2em;position: relative;}#sk-container-id-2 div.sk-item {position: relative;z-index: 1;}#sk-container-id-2 div.sk-parallel {display: flex;align-items: stretch;justify-content: center;background-color: white;position: relative;}#sk-container-id-2 div.sk-item::before, #sk-container-id-2 div.sk-parallel-item::before {content: \"\";position: absolute;border-left: 1px solid gray;box-sizing: border-box;top: 0;bottom: 0;left: 50%;z-index: -1;}#sk-container-id-2 div.sk-parallel-item {display: flex;flex-direction: column;z-index: 1;position: relative;background-color: white;}#sk-container-id-2 div.sk-parallel-item:first-child::after {align-self: flex-end;width: 50%;}#sk-container-id-2 div.sk-parallel-item:last-child::after {align-self: flex-start;width: 50%;}#sk-container-id-2 div.sk-parallel-item:only-child::after {width: 0;}#sk-container-id-2 div.sk-dashed-wrapped {border: 1px dashed gray;margin: 0 0.4em 0.5em 0.4em;box-sizing: border-box;padding-bottom: 0.4em;background-color: white;}#sk-container-id-2 div.sk-label label {font-family: monospace;font-weight: bold;display: inline-block;line-height: 1.2em;}#sk-container-id-2 div.sk-label-container {text-align: center;}#sk-container-id-2 div.sk-container {/* jupyter's `normalize.less` sets `[hidden] { display: none; }` but bootstrap.min.css set `[hidden] { display: none !important; }` so we also need the `!important` here to be able to override the default hidden behavior on the sphinx rendered scikit-learn.org. See: https://github.com/scikit-learn/scikit-learn/issues/21755 */display: inline-block !important;position: relative;}#sk-container-id-2 div.sk-text-repr-fallback {display: none;}</style><div id=\"sk-container-id-2\" class=\"sk-top-container\"><div class=\"sk-text-repr-fallback\"><pre>GridSearchCV(cv=5,\n",
       "             estimator=RandomForestClassifier(class_weight=&#x27;balanced&#x27;,\n",
       "                                              random_state=42),\n",
       "             param_grid={&#x27;bootstrap&#x27;: [True, False], &#x27;max_depth&#x27;: [5, 10, 15],\n",
       "                         &#x27;max_features&#x27;: [&#x27;sqrt&#x27;, &#x27;log2&#x27;],\n",
       "                         &#x27;min_samples_leaf&#x27;: [5, 10, 20],\n",
       "                         &#x27;min_samples_split&#x27;: [10, 30, 50],\n",
       "                         &#x27;n_estimators&#x27;: [100, 200, 300]},\n",
       "             refit=&#x27;recall&#x27;,\n",
       "             scoring={&#x27;accuracy&#x27;: make_scorer(accuracy_score),\n",
       "                      &#x27;f1&#x27;: make_scorer(f1_score, zero_division=0),\n",
       "                      &#x27;precision&#x27;: make_scorer(precision_score, zero_division=0),\n",
       "                      &#x27;recall&#x27;: make_scorer(recall_score, zero_division=0)})</pre><b>In a Jupyter environment, please rerun this cell to show the HTML representation or trust the notebook. <br />On GitHub, the HTML representation is unable to render, please try loading this page with nbviewer.org.</b></div><div class=\"sk-container\" hidden><div class=\"sk-item sk-dashed-wrapped\"><div class=\"sk-label-container\"><div class=\"sk-label sk-toggleable\"><input class=\"sk-toggleable__control sk-hidden--visually\" id=\"sk-estimator-id-4\" type=\"checkbox\" ><label for=\"sk-estimator-id-4\" class=\"sk-toggleable__label sk-toggleable__label-arrow\">GridSearchCV</label><div class=\"sk-toggleable__content\"><pre>GridSearchCV(cv=5,\n",
       "             estimator=RandomForestClassifier(class_weight=&#x27;balanced&#x27;,\n",
       "                                              random_state=42),\n",
       "             param_grid={&#x27;bootstrap&#x27;: [True, False], &#x27;max_depth&#x27;: [5, 10, 15],\n",
       "                         &#x27;max_features&#x27;: [&#x27;sqrt&#x27;, &#x27;log2&#x27;],\n",
       "                         &#x27;min_samples_leaf&#x27;: [5, 10, 20],\n",
       "                         &#x27;min_samples_split&#x27;: [10, 30, 50],\n",
       "                         &#x27;n_estimators&#x27;: [100, 200, 300]},\n",
       "             refit=&#x27;recall&#x27;,\n",
       "             scoring={&#x27;accuracy&#x27;: make_scorer(accuracy_score),\n",
       "                      &#x27;f1&#x27;: make_scorer(f1_score, zero_division=0),\n",
       "                      &#x27;precision&#x27;: make_scorer(precision_score, zero_division=0),\n",
       "                      &#x27;recall&#x27;: make_scorer(recall_score, zero_division=0)})</pre></div></div></div><div class=\"sk-parallel\"><div class=\"sk-parallel-item\"><div class=\"sk-item\"><div class=\"sk-label-container\"><div class=\"sk-label sk-toggleable\"><input class=\"sk-toggleable__control sk-hidden--visually\" id=\"sk-estimator-id-5\" type=\"checkbox\" ><label for=\"sk-estimator-id-5\" class=\"sk-toggleable__label sk-toggleable__label-arrow\">estimator: RandomForestClassifier</label><div class=\"sk-toggleable__content\"><pre>RandomForestClassifier(class_weight=&#x27;balanced&#x27;, random_state=42)</pre></div></div></div><div class=\"sk-serial\"><div class=\"sk-item\"><div class=\"sk-estimator sk-toggleable\"><input class=\"sk-toggleable__control sk-hidden--visually\" id=\"sk-estimator-id-6\" type=\"checkbox\" ><label for=\"sk-estimator-id-6\" class=\"sk-toggleable__label sk-toggleable__label-arrow\">RandomForestClassifier</label><div class=\"sk-toggleable__content\"><pre>RandomForestClassifier(class_weight=&#x27;balanced&#x27;, random_state=42)</pre></div></div></div></div></div></div></div></div></div></div>"
      ],
      "text/plain": [
       "GridSearchCV(cv=5,\n",
       "             estimator=RandomForestClassifier(class_weight='balanced',\n",
       "                                              random_state=42),\n",
       "             param_grid={'bootstrap': [True, False], 'max_depth': [5, 10, 15],\n",
       "                         'max_features': ['sqrt', 'log2'],\n",
       "                         'min_samples_leaf': [5, 10, 20],\n",
       "                         'min_samples_split': [10, 30, 50],\n",
       "                         'n_estimators': [100, 200, 300]},\n",
       "             refit='recall',\n",
       "             scoring={'accuracy': make_scorer(accuracy_score),\n",
       "                      'f1': make_scorer(f1_score, zero_division=0),\n",
       "                      'precision': make_scorer(precision_score, zero_division=0),\n",
       "                      'recall': make_scorer(recall_score, zero_division=0)})"
      ]
     },
     "execution_count": 34,
     "metadata": {},
     "output_type": "execute_result"
    }
   ],
   "source": [
    "%%time\n",
    "# Fit the Random Forest model with hyperparameter tuning (timing the operation)\n",
    "rf_cv.fit(X_train, y_train)"
   ]
  },
  {
   "cell_type": "code",
   "execution_count": 35,
   "id": "a644ec19",
   "metadata": {},
   "outputs": [
    {
     "data": {
      "text/plain": [
       "{'bootstrap': False,\n",
       " 'max_depth': 5,\n",
       " 'max_features': 'sqrt',\n",
       " 'min_samples_leaf': 20,\n",
       " 'min_samples_split': 50,\n",
       " 'n_estimators': 100}"
      ]
     },
     "execution_count": 35,
     "metadata": {},
     "output_type": "execute_result"
    }
   ],
   "source": [
    "# Save the trained GridSearchCV object (uncomment to save)\n",
    "#write_pickle(path, rf_cv, 'results_rf_cv')\n",
    "# Load the saved GridSearchCV object from disk\n",
    "rf_cv = read_pickle(path, 'results_rf_cv')\n",
    "\n",
    "# Display the best hyperparameters found during tuning\n",
    "rf_cv.best_params_"
   ]
  },
  {
   "cell_type": "code",
   "execution_count": 36,
   "id": "6878ae5a",
   "metadata": {},
   "outputs": [],
   "source": [
    "# Generate performance summary table using ROC AUC as selection metric\n",
    "rf_cv_results = make_results('Random Forest CV', rf_cv, 'recall')"
   ]
  },
  {
   "cell_type": "markdown",
   "id": "187c2300",
   "metadata": {},
   "source": [
    "## XGBoost"
   ]
  },
  {
   "cell_type": "code",
   "execution_count": 39,
   "id": "553d64f6",
   "metadata": {},
   "outputs": [],
   "source": [
    "# Define hyperparameter grid for tuning XGBoost classifier\n",
    "xgb_cv_params = {\n",
    "    'n_estimators': [100, 200, 300],\n",
    "    'learning_rate': [0.01, 0.05, 0.1],\n",
    "    'max_depth': [3, 4, 6],\n",
    "    'min_child_weight': [5, 10, 20],\n",
    "    'subsample': [0.6, 0.8, 1.0],\n",
    "    'colsample_bytree': [0.6, 0.8, 1.0],\n",
    "    'gamma': [0, 1, 5],\n",
    "    'reg_alpha': [0, 0.5, 1],\n",
    "    'reg_lambda': [0.5, 1, 2]\n",
    "}\n",
    "\n",
    "# Calculate scale_pos_weight to handle class imbalance based on training labels\n",
    "counter = Counter(y_train)\n",
    "scale_pos_weigh = counter[0] / counter[1]\n",
    "\n",
    "# Instantiate XGBoost classifier with computed scale_pos_weight and fixed random state\n",
    "xgb = XGBClassifier(random_state=42, scale_pos_weight=scale_pos_weigh)\n",
    "\n",
    "# Setup GridSearchCV for hyperparameter tuning with 5-fold CV,\n",
    "# optimizing for recall and using the scoring dictionary\n",
    "xgb_cv = GridSearchCV(estimator=xgb, param_grid=xgb_cv_params, scoring=scoring, cv=5, refit='recall')"
   ]
  },
  {
   "cell_type": "code",
   "execution_count": 40,
   "id": "4801a1c2",
   "metadata": {},
   "outputs": [
    {
     "name": "stdout",
     "output_type": "stream",
     "text": [
      "CPU times: total: 1d 4h 43min 45s\n",
      "Wall time: 4h 9min 28s\n"
     ]
    }
   ],
   "source": [
    "%%time\n",
    "# Fit the model with hyperparameter tuning (timed)\n",
    "xgb_cv.fit(X_train, y_train)\n",
    "\n",
    "write_pickle(path, xgb_cv, 'results_xgb_cv')"
   ]
  },
  {
   "cell_type": "code",
   "execution_count": 41,
   "id": "e32edc6e",
   "metadata": {},
   "outputs": [
    {
     "data": {
      "text/plain": [
       "{'colsample_bytree': 0.8,\n",
       " 'gamma': 0,\n",
       " 'learning_rate': 0.01,\n",
       " 'max_depth': 3,\n",
       " 'min_child_weight': 10,\n",
       " 'n_estimators': 100,\n",
       " 'reg_alpha': 0,\n",
       " 'reg_lambda': 1,\n",
       " 'subsample': 0.6}"
      ]
     },
     "execution_count": 41,
     "metadata": {},
     "output_type": "execute_result"
    }
   ],
   "source": [
    "# Save the trained GridSearchCV object (uncomment to save)\n",
    "# write_pickle(path, xgb_cv, 'results_xgb_cv')\n",
    "\n",
    "# Load the saved GridSearchCV object from disk\n",
    "xgb_cv = read_pickle(path, 'results_xgb_cv')\n",
    "\n",
    "# Display the best hyperparameters found during tuning\n",
    "xgb_cv.best_params_"
   ]
  },
  {
   "cell_type": "code",
   "execution_count": 42,
   "id": "50ee5d6e",
   "metadata": {},
   "outputs": [],
   "source": [
    "# Generate performance summary table using recall as selection metric\n",
    "xgb_cv_results = make_results('XGBoost CV', xgb_cv, 'recall')\n"
   ]
  },
  {
   "cell_type": "code",
   "execution_count": 43,
   "id": "33805258",
   "metadata": {},
   "outputs": [
    {
     "data": {
      "text/html": [
       "<div>\n",
       "<style scoped>\n",
       "    .dataframe tbody tr th:only-of-type {\n",
       "        vertical-align: middle;\n",
       "    }\n",
       "\n",
       "    .dataframe tbody tr th {\n",
       "        vertical-align: top;\n",
       "    }\n",
       "\n",
       "    .dataframe thead th {\n",
       "        text-align: right;\n",
       "    }\n",
       "</style>\n",
       "<table border=\"1\" class=\"dataframe\">\n",
       "  <thead>\n",
       "    <tr style=\"text-align: right;\">\n",
       "      <th></th>\n",
       "      <th>model</th>\n",
       "      <th>precision</th>\n",
       "      <th>recall</th>\n",
       "      <th>F1</th>\n",
       "      <th>accuracy</th>\n",
       "    </tr>\n",
       "  </thead>\n",
       "  <tbody>\n",
       "    <tr>\n",
       "      <th>0</th>\n",
       "      <td>Decision Tree CV</td>\n",
       "      <td>0.323186</td>\n",
       "      <td>0.739692</td>\n",
       "      <td>0.449268</td>\n",
       "      <td>0.676411</td>\n",
       "    </tr>\n",
       "    <tr>\n",
       "      <th>0</th>\n",
       "      <td>Random Forest CV</td>\n",
       "      <td>0.363739</td>\n",
       "      <td>0.724923</td>\n",
       "      <td>0.483994</td>\n",
       "      <td>0.725441</td>\n",
       "    </tr>\n",
       "    <tr>\n",
       "      <th>0</th>\n",
       "      <td>XGBoost CV</td>\n",
       "      <td>0.375066</td>\n",
       "      <td>0.755692</td>\n",
       "      <td>0.500729</td>\n",
       "      <td>0.731045</td>\n",
       "    </tr>\n",
       "  </tbody>\n",
       "</table>\n",
       "</div>"
      ],
      "text/plain": [
       "              model  precision    recall        F1  accuracy\n",
       "0  Decision Tree CV   0.323186  0.739692  0.449268  0.676411\n",
       "0  Random Forest CV   0.363739  0.724923  0.483994  0.725441\n",
       "0        XGBoost CV   0.375066  0.755692  0.500729  0.731045"
      ]
     },
     "execution_count": 43,
     "metadata": {},
     "output_type": "execute_result"
    }
   ],
   "source": [
    "# Combine the cross-validation results of Decision Tree, Random Forest, and XGBoost models into a single DataFrame for easy comparison\n",
    "results = pd.concat([dt_cv_results, rf_cv_results, xgb_cv_results], axis=0)\n",
    "\n",
    "# Display the combined results table\n",
    "results\n"
   ]
  },
  {
   "cell_type": "markdown",
   "id": "86e07852",
   "metadata": {},
   "source": [
    "**Based on the cross-validation results, here’s how the three models compare:**\n",
    "\n",
    "The **XGBoost** model stands out as the top performer. It achieves the best F1 score (0.50), which is important because it balances precision and recall. It also has the highest accuracy (0.73) and recall (0.76), meaning it’s the most effective at correctly identifying positive cases while still being fairly accurate overall.\n",
    "\n",
    "The **Random Forest** model comes in second. Its F1 score (0.48) and accuracy (0.73) are just slightly lower than XGBoost’s, and it has better precision than the Decision Tree, which means it makes fewer false positive predictions.\n",
    "\n",
    "The **Decision Tree** model is the weakest of the three. While its recall (0.74) is still good, its low precision (0.32) means it flags a lot of negatives as positives, which hurts its reliability.\n",
    "\n",
    "**Key points to note:**\n",
    "\n",
    "* All three models have strong recall, so they’re good at finding the positives.\n",
    "* Precision is a weakness across the board, none of them go above 0.38. This means they tend to overpredict positives, which could lead to many false alarms.\n",
    "* Since these are training-stage cross-validation results, the next step would be to tune the models (e.g., adjust class weights or thresholds) to improve precision without losing too much recall.\n"
   ]
  },
  {
   "cell_type": "markdown",
   "id": "60d79737",
   "metadata": {},
   "source": [
    "# Model selection "
   ]
  },
  {
   "cell_type": "code",
   "execution_count": 44,
   "id": "21032520",
   "metadata": {},
   "outputs": [],
   "source": [
    "def get_test_scores(model_name:str, model_object, X_test_data, y_test_data, plot_roc =True, return_table = True):\n",
    "    '''\n",
    "    Evaluate a trained model on test data and optionally plot ROC curve.\n",
    "\n",
    "    Inputs:\n",
    "        model_name (str): Name of the model to display in output.\n",
    "        model_object: Trained model object (expects a GridSearchCV or RandomizedSearchCV with best_estimator_).\n",
    "        X_test_data (array-like): Feature matrix for the test set.\n",
    "        y_test_data (array-like): True labels for the test set.\n",
    "        plot_roc (bool): Whether to plot the ROC curve. Default is True.\n",
    "        return_table (bool): Whether to return a pandas DataFrame with metrics. Default is True.\n",
    "\n",
    "    Outputs:\n",
    "        If return_table is True, returns a DataFrame containing precision, recall, F1 score, accuracy, and ROC AUC.\n",
    "        Also plots the ROC curve if plot_roc is True.\n",
    "    '''\n",
    "    preds = model_object.best_estimator_.predict(X_test_data)\n",
    "    proba = model_object.best_estimator_.predict_proba(X_test_data)[:,1]\n",
    "    \n",
    "    accuracy = accuracy_score(y_test_data, preds)\n",
    "    precision = precision_score(y_test_data, preds)\n",
    "    recall = recall_score(y_test_data, preds)\n",
    "    f1 = f1_score(y_test_data, preds)\n",
    "    rocauc =  roc_auc_score(y_test_data, proba)\n",
    "    \n",
    "    if plot_roc :\n",
    "        fpr, tpr, _ = roc_curve(y_test_data, proba)\n",
    "        plt.figure(figsize=(6, 5))\n",
    "        plt.plot(fpr, tpr, label=f'{model_name} (AUC = {rocauc:.2f})', color='darkorange')\n",
    "        plt.plot([0, 1], [0, 1], linestyle='--', color='gray')\n",
    "        plt.xlabel('False Positive Rate')\n",
    "        plt.ylabel('True Positive Rate')\n",
    "        plt.title(f'ROC Curve - {model_name}')\n",
    "        plt.legend(loc='lower right')\n",
    "        plt.grid()\n",
    "        plt.show()\n",
    "    \n",
    "    if return_table :\n",
    "        table = pd.DataFrame({'model': [model_name],\n",
    "                          'precision': [precision],\n",
    "                          'recall': [recall],\n",
    "                          'F1': [f1],\n",
    "                          'accuracy': [accuracy],\n",
    "                          'roc_auc': [rocauc]\n",
    "                          })\n",
    "        return table\n"
   ]
  },
  {
   "cell_type": "code",
   "execution_count": 45,
   "id": "38597732",
   "metadata": {},
   "outputs": [
    {
     "data": {
      "text/html": [
       "<div>\n",
       "<style scoped>\n",
       "    .dataframe tbody tr th:only-of-type {\n",
       "        vertical-align: middle;\n",
       "    }\n",
       "\n",
       "    .dataframe tbody tr th {\n",
       "        vertical-align: top;\n",
       "    }\n",
       "\n",
       "    .dataframe thead th {\n",
       "        text-align: right;\n",
       "    }\n",
       "</style>\n",
       "<table border=\"1\" class=\"dataframe\">\n",
       "  <thead>\n",
       "    <tr style=\"text-align: right;\">\n",
       "      <th></th>\n",
       "      <th>model</th>\n",
       "      <th>precision</th>\n",
       "      <th>recall</th>\n",
       "      <th>F1</th>\n",
       "      <th>accuracy</th>\n",
       "      <th>roc_auc</th>\n",
       "    </tr>\n",
       "  </thead>\n",
       "  <tbody>\n",
       "    <tr>\n",
       "      <th>0</th>\n",
       "      <td>Decision Tree val</td>\n",
       "      <td>0.296774</td>\n",
       "      <td>0.726316</td>\n",
       "      <td>0.421374</td>\n",
       "      <td>0.646620</td>\n",
       "      <td>0.685442</td>\n",
       "    </tr>\n",
       "    <tr>\n",
       "      <th>0</th>\n",
       "      <td>Random Forest val</td>\n",
       "      <td>0.338028</td>\n",
       "      <td>0.631579</td>\n",
       "      <td>0.440367</td>\n",
       "      <td>0.715618</td>\n",
       "      <td>0.734719</td>\n",
       "    </tr>\n",
       "    <tr>\n",
       "      <th>0</th>\n",
       "      <td>XGBoost val</td>\n",
       "      <td>0.333333</td>\n",
       "      <td>0.655263</td>\n",
       "      <td>0.441881</td>\n",
       "      <td>0.706760</td>\n",
       "      <td>0.736654</td>\n",
       "    </tr>\n",
       "  </tbody>\n",
       "</table>\n",
       "</div>"
      ],
      "text/plain": [
       "               model  precision    recall        F1  accuracy   roc_auc\n",
       "0  Decision Tree val   0.296774  0.726316  0.421374  0.646620  0.685442\n",
       "0  Random Forest val   0.338028  0.631579  0.440367  0.715618  0.734719\n",
       "0        XGBoost val   0.333333  0.655263  0.441881  0.706760  0.736654"
      ]
     },
     "execution_count": 45,
     "metadata": {},
     "output_type": "execute_result"
    }
   ],
   "source": [
    "# Evaluate Decision Tree on validation set without plotting ROC curve and store metrics\n",
    "dt_val_results = get_test_scores('Decision Tree val', dt_cv, X_val, y_val, plot_roc=False, return_table=True)\n",
    "\n",
    "# Evaluate Random Forest on validation set without plotting ROC curve and store metrics\n",
    "rf_val_results = get_test_scores('Random Forest val', rf_cv, X_val, y_val, plot_roc=False, return_table=True)\n",
    "\n",
    "# Evaluate XGBoost on validation set without plotting ROC curve and store metrics\n",
    "xgb_val_results = get_test_scores('XGBoost val', xgb_cv, X_val, y_val, plot_roc=False, return_table=True)\n",
    "\n",
    "# Combine validation performance metrics of Decision Tree, Random Forest, and XGBoost models into a single DataFrame for comparison\n",
    "results_val = pd.concat([dt_val_results, rf_val_results, xgb_val_results], axis=0)\n",
    "\n",
    "# Display the combined validation results table\n",
    "results_val\n"
   ]
  },
  {
   "cell_type": "markdown",
   "id": "5653ba1f",
   "metadata": {},
   "source": [
    "Based on the validation data, XGBoost and Random Forest are the strongest performers. XGBoost has the highest F1 score (0.44), while Random Forest has slightly better accuracy (0.72) and precision (0.34). Both models show good generalization, with ROC AUC scores above 0.73. The Decision Tree is the weakest model, with poor precision (0.30) and the lowest overall F1 score (0.42) and accuracy (0.65).\n",
    "\n",
    "A key finding is that all models have higher recall than precision, indicating they are effective at identifying positive cases but tend to generate a high number of false alarms.\n",
    "\n",
    "Next steps include selecting either XGBoost or Random Forest and optimizing its prediction threshold on the validation set to improve the balance between precision and recall, before evaluating the final performance on the test set."
   ]
  },
  {
   "cell_type": "code",
   "execution_count": 46,
   "id": "ebe93fff",
   "metadata": {},
   "outputs": [],
   "source": [
    "def get_compromise_scores(model_name:str, model_object, X_test_data, y_test_data):\n",
    "    '''\n",
    "    Generate a table of test scores.\n",
    "\n",
    "    In:\n",
    "        model_name (str): Name for the model in the output table.\n",
    "        model_object: Trained model (with best_estimator_ if using GridSearchCV).\n",
    "        X_test_data (array-like): Test features.\n",
    "        y_test_data (array-like): True test labels.\n",
    "\n",
    "    Out:\n",
    "        table (pd.DataFrame): Table with precision, recall, f1, accuracy, and ROC AUC scores.\n",
    "    '''\n",
    "    \n",
    "    preds = model_object.best_estimator_.predict(X_test_data)\n",
    "    proba = model_object.best_estimator_.predict_proba(X_test_data)[:,1]\n",
    "    \n",
    "    seuils = np.linspace(0.1, 0.9, 50)\n",
    "    best_seuil = 0.5\n",
    "    best_f1 = 0\n",
    "\n",
    "    for s in seuils:\n",
    "        preds_temp = (proba >= s).astype(int)\n",
    "        f1 = f1_score(y_test_data, preds_temp)\n",
    "        if f1 > best_f1:\n",
    "            best_f1 = f1\n",
    "            best_seuil = s\n",
    "\n",
    "    # Apply the best threshold\n",
    "    final_preds = (proba >= best_seuil).astype(int)\n",
    "     \n",
    "    accuracy = accuracy_score(y_test_data, final_preds)\n",
    "    precision = precision_score(y_test_data, final_preds)\n",
    "    recall = recall_score(y_test_data, final_preds)\n",
    "    f1 = f1_score(y_test_data, final_preds)\n",
    "    rocauc =  roc_auc_score(y_test_data, proba)\n",
    "    \n",
    "    table = pd.DataFrame({'model': [model_name],\n",
    "                          'thresh_optimal': [best_seuil],\n",
    "                          'precision': [precision],\n",
    "                          'recall': [recall],\n",
    "                          'F1': [f1],\n",
    "                          'accuracy': [accuracy],\n",
    "                          'roc_auc': [rocauc]\n",
    "                          })\n",
    "    return table"
   ]
  },
  {
   "cell_type": "code",
   "execution_count": 48,
   "id": "99b30bc6",
   "metadata": {},
   "outputs": [
    {
     "data": {
      "text/html": [
       "<div>\n",
       "<style scoped>\n",
       "    .dataframe tbody tr th:only-of-type {\n",
       "        vertical-align: middle;\n",
       "    }\n",
       "\n",
       "    .dataframe tbody tr th {\n",
       "        vertical-align: top;\n",
       "    }\n",
       "\n",
       "    .dataframe thead th {\n",
       "        text-align: right;\n",
       "    }\n",
       "</style>\n",
       "<table border=\"1\" class=\"dataframe\">\n",
       "  <thead>\n",
       "    <tr style=\"text-align: right;\">\n",
       "      <th></th>\n",
       "      <th>model</th>\n",
       "      <th>thresh_optimal</th>\n",
       "      <th>precision</th>\n",
       "      <th>recall</th>\n",
       "      <th>F1</th>\n",
       "      <th>accuracy</th>\n",
       "      <th>roc_auc</th>\n",
       "    </tr>\n",
       "  </thead>\n",
       "  <tbody>\n",
       "    <tr>\n",
       "      <th>0</th>\n",
       "      <td>Decision Tree</td>\n",
       "      <td>0.442857</td>\n",
       "      <td>0.296774</td>\n",
       "      <td>0.726316</td>\n",
       "      <td>0.421374</td>\n",
       "      <td>0.646620</td>\n",
       "      <td>0.685442</td>\n",
       "    </tr>\n",
       "    <tr>\n",
       "      <th>0</th>\n",
       "      <td>Random Forest</td>\n",
       "      <td>0.524490</td>\n",
       "      <td>0.354232</td>\n",
       "      <td>0.594737</td>\n",
       "      <td>0.444008</td>\n",
       "      <td>0.736131</td>\n",
       "      <td>0.734719</td>\n",
       "    </tr>\n",
       "    <tr>\n",
       "      <th>0</th>\n",
       "      <td>XGBoost</td>\n",
       "      <td>0.491837</td>\n",
       "      <td>0.331646</td>\n",
       "      <td>0.689474</td>\n",
       "      <td>0.447863</td>\n",
       "      <td>0.698834</td>\n",
       "      <td>0.736654</td>\n",
       "    </tr>\n",
       "  </tbody>\n",
       "</table>\n",
       "</div>"
      ],
      "text/plain": [
       "            model  thresh_optimal  precision    recall        F1  accuracy  \\\n",
       "0  Decision Tree         0.442857   0.296774  0.726316  0.421374  0.646620   \n",
       "0  Random Forest         0.524490   0.354232  0.594737  0.444008  0.736131   \n",
       "0        XGBoost         0.491837   0.331646  0.689474  0.447863  0.698834   \n",
       "\n",
       "    roc_auc  \n",
       "0  0.685442  \n",
       "0  0.734719  \n",
       "0  0.736654  "
      ]
     },
     "execution_count": 48,
     "metadata": {},
     "output_type": "execute_result"
    }
   ],
   "source": [
    "dt_seuil = get_compromise_scores('Decision Tree ', dt_cv, X_val, y_val)\n",
    "rf_seuil = get_compromise_scores('Random Forest ', rf_cv, X_val, y_val)\n",
    "xgb_seuil = get_compromise_scores('XGBoost ', xgb_cv, X_val, y_val)\n",
    "\n",
    "results_thresh = pd.concat([dt_seuil, rf_seuil, xgb_seuil], axis=0)\n",
    "results_thresh"
   ]
  },
  {
   "cell_type": "markdown",
   "id": "1be52d73",
   "metadata": {},
   "source": [
    "Based on the validation results with optimized thresholds, the Decision Tree identifies a high proportion of users likely to churn, reflected in its high recall of 0.73. However, its low precision of 0.30 indicates many false positives, making it less reliable overall. Random Forest provides a better balance between precision and recall, achieving a higher F1-score of 0.44 and strong accuracy of 0.74, suggesting it can more reliably predict at-risk users while minimizing false alerts. XGBoost achieves the highest F1-score at 0.45 and maintains a high recall of 0.69, making it the most effective model at detecting potential churn while keeping false positives reasonable. These results indicate that optimizing the prediction threshold significantly improves the trade-off between precision and recall. Overall, XGBoost appears to be the most suitable model for anticipating user churn and informing retention strategies, with Random Forest as a close alternative. The Decision Tree, while simpler and more interpretable, is less effective due to its lower precision."
   ]
  },
  {
   "cell_type": "code",
   "execution_count": 55,
   "id": "bad1efdc",
   "metadata": {},
   "outputs": [],
   "source": [
    "#final_table = pd.concat([results, results_val])\n",
    "#final_table\n",
    "#get_test_scores('Decision Tree val', dt_cv, X_val, y_val, plot_roc=True, return_table=False)\n",
    "#get_test_scores('Random Forest val', rf_cv, X_val, y_val, plot_roc=True, return_table=False)\n",
    "#get_test_scores('XGBoost val', xgb_cv, X_val, y_val, plot_roc=True, return_table=False)"
   ]
  },
  {
   "cell_type": "markdown",
   "id": "a13846c2",
   "metadata": {},
   "source": [
    "# Test "
   ]
  },
  {
   "cell_type": "code",
   "execution_count": 49,
   "id": "37033722",
   "metadata": {},
   "outputs": [],
   "source": [
    "#xgb_test_results = get_test_scores('XGBoost test', xgb_cv, X_test, y_test, plot_roc =False, return_table = True)\n",
    "\n",
    "model_name = 'XGBoost test'\n",
    "\n",
    "xgb_thresh = 0.491837\n",
    "y_pred = xgb_cv.best_estimator_.predict(X_test)\n",
    "y_proba = xgb_cv.best_estimator_.predict_proba(X_test)[:,1]\n",
    "y_preds_thresh = (y_proba >= xgb_thresh).astype(int)\n",
    "\n",
    "\n",
    "accuracy = accuracy_score(y_test, y_preds_thresh)\n",
    "precision = precision_score(y_test, y_preds_thresh)\n",
    "recall = recall_score(y_test, y_preds_thresh)\n",
    "f1 = f1_score(y_test, y_preds_thresh)\n",
    "rocauc =  roc_auc_score(y_test, y_proba)\n",
    "\n",
    "xgb_test_results = pd.DataFrame({'model': [model_name],\n",
    "                          'precision': [precision],\n",
    "                          'recall': [recall],\n",
    "                          'F1': [f1],\n",
    "                          'accuracy': [accuracy],\n",
    "                          'roc_auc': [rocauc]\n",
    "                          })"
   ]
  },
  {
   "cell_type": "code",
   "execution_count": 50,
   "id": "170c0a26",
   "metadata": {},
   "outputs": [
    {
     "data": {
      "text/html": [
       "<div>\n",
       "<style scoped>\n",
       "    .dataframe tbody tr th:only-of-type {\n",
       "        vertical-align: middle;\n",
       "    }\n",
       "\n",
       "    .dataframe tbody tr th {\n",
       "        vertical-align: top;\n",
       "    }\n",
       "\n",
       "    .dataframe thead th {\n",
       "        text-align: right;\n",
       "    }\n",
       "</style>\n",
       "<table border=\"1\" class=\"dataframe\">\n",
       "  <thead>\n",
       "    <tr style=\"text-align: right;\">\n",
       "      <th></th>\n",
       "      <th>model</th>\n",
       "      <th>precision</th>\n",
       "      <th>recall</th>\n",
       "      <th>F1</th>\n",
       "      <th>accuracy</th>\n",
       "      <th>roc_auc</th>\n",
       "    </tr>\n",
       "  </thead>\n",
       "  <tbody>\n",
       "    <tr>\n",
       "      <th>0</th>\n",
       "      <td>XGBoost test</td>\n",
       "      <td>0.310541</td>\n",
       "      <td>0.644653</td>\n",
       "      <td>0.419164</td>\n",
       "      <td>0.683129</td>\n",
       "      <td>0.727458</td>\n",
       "    </tr>\n",
       "  </tbody>\n",
       "</table>\n",
       "</div>"
      ],
      "text/plain": [
       "          model  precision    recall        F1  accuracy   roc_auc\n",
       "0  XGBoost test   0.310541  0.644653  0.419164  0.683129  0.727458"
      ]
     },
     "execution_count": 50,
     "metadata": {},
     "output_type": "execute_result"
    }
   ],
   "source": [
    "xgb_test_results"
   ]
  },
  {
   "cell_type": "markdown",
   "id": "e77e3be6",
   "metadata": {},
   "source": [
    "The XGBoost model with the optimized threshold is the most effective for predicting Waze user churn. It successfully identifies a large portion of users likely to churn (high recall) while maintaining a reasonable balance with precision. Although precision is moderate, the model provides a reliable tool for detecting at-risk users, enabling targeted retention strategies. Threshold optimization on the validation set maximized the model’s effectiveness before final evaluation on the test set, confirming its robustness and ability to generalize to unseen data."
   ]
  },
  {
   "cell_type": "code",
   "execution_count": 51,
   "id": "2da96332",
   "metadata": {},
   "outputs": [
    {
     "data": {
      "image/png": "[encoded data removed]",
      "text/plain": [
       "<Figure size 640x480 with 2 Axes>"
      ]
     },
     "metadata": {},
     "output_type": "display_data"
    }
   ],
   "source": [
    "# Create the display for your confusion matrix.\n",
    "\n",
    "cm = confusion_matrix(y_test, y_preds_thresh)\n",
    "disp = ConfusionMatrixDisplay(cm)\n",
    "disp.plot()\n",
    "plt.title(\"Confusion Matrix - XGBoost\")\n",
    "plt.show()"
   ]
  },
  {
   "cell_type": "markdown",
   "id": "7b634efb",
   "metadata": {},
   "source": [
    "The confusion matrix for XGBoost on the test set highlights the model’s performance in classifying Waze users. Out of all non-churning users, 6,507 were correctly identified (true negatives), while 2,904 were incorrectly predicted as churners (false positives). Among the actual churners, 1,308 were correctly detected (true positives), and 721 were missed (false negatives).\n",
    "\n",
    "This confirms the earlier observations from the metrics: the model achieves a relatively high recall (0.64), meaning it successfully identifies a large portion of users likely to churn. However, the precision remains moderate (0.31), indicating a substantial number of false positives. Overall, XGBoost provides a reliable tool for detecting at-risk users, striking a practical balance between capturing churn cases and controlling false alerts, which is essential for designing targeted retention strategies."
   ]
  },
  {
   "cell_type": "code",
   "execution_count": 53,
   "id": "2daa99af",
   "metadata": {},
   "outputs": [
    {
     "data": {
      "image/png": "[encoded data removed]",
      "text/plain": [
       "<Figure size 640x480 with 1 Axes>"
      ]
     },
     "metadata": {},
     "output_type": "display_data"
    }
   ],
   "source": [
    "# Plot the relative feature importance of the predictor variables in the model.\n",
    "\n",
    "plot_importance(xgb_cv.best_estimator_, importance_type='weight')\n",
    "plt.title(\"Top 10 Feature Importances\")\n",
    "plt.show()"
   ]
  },
  {
   "cell_type": "markdown",
   "id": "9637732b",
   "metadata": {},
   "source": [
    "\n",
    "### **Analysis of Feature Importance**\n",
    "\n",
    "The provided data shows the relative importance of different features in the XGBoost model, which are known for their ability to rank features. The higher the score, the more impact a feature has on the model's predictions.\n",
    "\n",
    "1.  **Top Predictors:** The most important features are **activity\\_days (88.0)**, **total\\_navigations\\_fav1 (67.0)**, and **n\\_days\\_after\\_onboarding (57.0)**. These are the primary drivers for the model's output. This suggests that the duration of a user's activity, their engagement with a specific type of navigation, and how long they have been a user are the most critical factors.\n",
    "\n",
    "2.  **Mid-tier Predictors:** Features like **percent\\_sessions\\_in\\_lats\\_moonth (56.0)**, **duration\\_minutes\\_drives (49.0)**, **km\\_per\\_driving\\_day (40.0)**, and **driving\\_days (40.0)** also play a significant role. These features are related to the intensity and recency of a user's driving behavior.\n",
    "\n",
    "3.  **Low-impact Predictors:** Features such as **km\\_per\\_drive (7.0)**, **sessions (6.0)**, and **professional\\_driver (2.0)** have very little influence on the model's predictions. This is an important finding, as it suggests these variables do not provide much predictive power, and you might consider removing them to simplify the model without a significant loss in performance. The fact that `professional_driver` has such a low score is particularly interesting, as one might expect it to be a key factor.\n",
    "\n",
    "### **Key Takeaways**\n",
    "\n",
    "The model heavily relies on **user activity and engagement metrics**, particularly those related to the duration and type of navigation. The number of days a user has been active and the recency of their sessions are far more predictive than the total number of sessions or the average length of a drive. The low importance of `professional_driver` suggests that driving patterns might not differ significantly between professional and non-professional users in a way that is useful for this model."
   ]
  }
 ],
 "metadata": {
  "kernelspec": {
   "display_name": "Python 3 (ipykernel)",
   "language": "python",
   "name": "python3"
  },
  "language_info": {
   "codemirror_mode": {
    "name": "ipython",
    "version": 3
   },
   "file_extension": ".py",
   "mimetype": "text/x-python",
   "name": "python",
   "nbconvert_exporter": "python",
   "pygments_lexer": "ipython3",
   "version": "3.10.9"
  }
 },
 "nbformat": 4,
 "nbformat_minor": 5
}
